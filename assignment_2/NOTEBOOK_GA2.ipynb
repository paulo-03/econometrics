{
 "cells": [
  {
   "cell_type": "markdown",
   "source": [
    "# Assignment 2 - Fish Prices\n",
    "\n",
    "---\n",
    "This notebook shows all the step used to answer questions of assignment 2 from [Econometrics](https://edu.epfl.ch/coursebook/fr/econometrics-FIN-403) courses.\n",
    "\n",
    "**Author**: [Paulo Ribeiro](https://people.epfl.ch/paulo.ribeirodecarvalho)\n",
    "\n",
    "---"
   ],
   "metadata": {
    "collapsed": false
   }
  },
  {
   "cell_type": "markdown",
   "source": [
    "## Import Libraries"
   ],
   "metadata": {
    "collapsed": false
   }
  },
  {
   "cell_type": "code",
   "execution_count": 1,
   "outputs": [],
   "source": [
    "import matplotlib.pyplot as plt\n",
    "import numpy as np\n",
    "import pandas as pd\n",
    "import statsmodels.api as sm\n",
    "from linearmodels.iv import IV2SLS\n",
    "from IPython.display import HTML"
   ],
   "metadata": {
    "collapsed": false,
    "ExecuteTime": {
     "end_time": "2023-11-27T21:57:43.509069Z",
     "start_time": "2023-11-27T21:57:41.383091Z"
    }
   }
  },
  {
   "cell_type": "markdown",
   "source": [
    "## Load data"
   ],
   "metadata": {
    "collapsed": false
   }
  },
  {
   "cell_type": "code",
   "execution_count": 2,
   "outputs": [
    {
     "data": {
      "text/plain": "      avgprc   lavgprc  totqty   ltotqty  speed2  speed3  wave2  wave3  mon  \\\n0   0.700286 -0.356266    4080  8.313852      15      20    7.5    9.0    1   \n1   1.005336  0.005322    3466  8.150757      10      20    5.0    7.5    0   \n2   1.393918  0.332118    2295  7.738488      10      20    6.0    4.0    0   \n3   1.775487  0.574075    1870  7.533694      15      20    6.0    5.0    0   \n4   0.826799 -0.190194    6885  8.837100      10      20    3.5    3.5    1   \n..       ...       ...     ...       ...     ...     ...    ...    ...  ...   \n92  0.429408 -0.845347    3450  8.146130      15      15    4.5    3.5    1   \n93  0.907724 -0.096815    1230  7.114770      12      25    4.5    4.0    0   \n94  1.238571  0.213958    1250  7.130899      12      25    5.0    4.5    0   \n95  1.250000  0.223144    3980  8.289037      15      18    6.0    4.5    0   \n96  1.725758  0.545667    3780  8.237479      15      20    9.0    5.0    0   \n\n    tues  wed  thurs   t  \n0      0    0      0   1  \n1      0    1      0   2  \n2      0    0      1   3  \n3      0    0      0   4  \n4      0    0      0   5  \n..   ...  ...    ...  ..  \n92     0    0      0  93  \n93     1    0      0  94  \n94     0    1      0  95  \n95     0    0      1  96  \n96     0    0      0  97  \n\n[97 rows x 13 columns]",
      "text/html": "<div>\n<style scoped>\n    .dataframe tbody tr th:only-of-type {\n        vertical-align: middle;\n    }\n\n    .dataframe tbody tr th {\n        vertical-align: top;\n    }\n\n    .dataframe thead th {\n        text-align: right;\n    }\n</style>\n<table border=\"1\" class=\"dataframe\">\n  <thead>\n    <tr style=\"text-align: right;\">\n      <th></th>\n      <th>avgprc</th>\n      <th>lavgprc</th>\n      <th>totqty</th>\n      <th>ltotqty</th>\n      <th>speed2</th>\n      <th>speed3</th>\n      <th>wave2</th>\n      <th>wave3</th>\n      <th>mon</th>\n      <th>tues</th>\n      <th>wed</th>\n      <th>thurs</th>\n      <th>t</th>\n    </tr>\n  </thead>\n  <tbody>\n    <tr>\n      <th>0</th>\n      <td>0.700286</td>\n      <td>-0.356266</td>\n      <td>4080</td>\n      <td>8.313852</td>\n      <td>15</td>\n      <td>20</td>\n      <td>7.5</td>\n      <td>9.0</td>\n      <td>1</td>\n      <td>0</td>\n      <td>0</td>\n      <td>0</td>\n      <td>1</td>\n    </tr>\n    <tr>\n      <th>1</th>\n      <td>1.005336</td>\n      <td>0.005322</td>\n      <td>3466</td>\n      <td>8.150757</td>\n      <td>10</td>\n      <td>20</td>\n      <td>5.0</td>\n      <td>7.5</td>\n      <td>0</td>\n      <td>0</td>\n      <td>1</td>\n      <td>0</td>\n      <td>2</td>\n    </tr>\n    <tr>\n      <th>2</th>\n      <td>1.393918</td>\n      <td>0.332118</td>\n      <td>2295</td>\n      <td>7.738488</td>\n      <td>10</td>\n      <td>20</td>\n      <td>6.0</td>\n      <td>4.0</td>\n      <td>0</td>\n      <td>0</td>\n      <td>0</td>\n      <td>1</td>\n      <td>3</td>\n    </tr>\n    <tr>\n      <th>3</th>\n      <td>1.775487</td>\n      <td>0.574075</td>\n      <td>1870</td>\n      <td>7.533694</td>\n      <td>15</td>\n      <td>20</td>\n      <td>6.0</td>\n      <td>5.0</td>\n      <td>0</td>\n      <td>0</td>\n      <td>0</td>\n      <td>0</td>\n      <td>4</td>\n    </tr>\n    <tr>\n      <th>4</th>\n      <td>0.826799</td>\n      <td>-0.190194</td>\n      <td>6885</td>\n      <td>8.837100</td>\n      <td>10</td>\n      <td>20</td>\n      <td>3.5</td>\n      <td>3.5</td>\n      <td>1</td>\n      <td>0</td>\n      <td>0</td>\n      <td>0</td>\n      <td>5</td>\n    </tr>\n    <tr>\n      <th>...</th>\n      <td>...</td>\n      <td>...</td>\n      <td>...</td>\n      <td>...</td>\n      <td>...</td>\n      <td>...</td>\n      <td>...</td>\n      <td>...</td>\n      <td>...</td>\n      <td>...</td>\n      <td>...</td>\n      <td>...</td>\n      <td>...</td>\n    </tr>\n    <tr>\n      <th>92</th>\n      <td>0.429408</td>\n      <td>-0.845347</td>\n      <td>3450</td>\n      <td>8.146130</td>\n      <td>15</td>\n      <td>15</td>\n      <td>4.5</td>\n      <td>3.5</td>\n      <td>1</td>\n      <td>0</td>\n      <td>0</td>\n      <td>0</td>\n      <td>93</td>\n    </tr>\n    <tr>\n      <th>93</th>\n      <td>0.907724</td>\n      <td>-0.096815</td>\n      <td>1230</td>\n      <td>7.114770</td>\n      <td>12</td>\n      <td>25</td>\n      <td>4.5</td>\n      <td>4.0</td>\n      <td>0</td>\n      <td>1</td>\n      <td>0</td>\n      <td>0</td>\n      <td>94</td>\n    </tr>\n    <tr>\n      <th>94</th>\n      <td>1.238571</td>\n      <td>0.213958</td>\n      <td>1250</td>\n      <td>7.130899</td>\n      <td>12</td>\n      <td>25</td>\n      <td>5.0</td>\n      <td>4.5</td>\n      <td>0</td>\n      <td>0</td>\n      <td>1</td>\n      <td>0</td>\n      <td>95</td>\n    </tr>\n    <tr>\n      <th>95</th>\n      <td>1.250000</td>\n      <td>0.223144</td>\n      <td>3980</td>\n      <td>8.289037</td>\n      <td>15</td>\n      <td>18</td>\n      <td>6.0</td>\n      <td>4.5</td>\n      <td>0</td>\n      <td>0</td>\n      <td>0</td>\n      <td>1</td>\n      <td>96</td>\n    </tr>\n    <tr>\n      <th>96</th>\n      <td>1.725758</td>\n      <td>0.545667</td>\n      <td>3780</td>\n      <td>8.237479</td>\n      <td>15</td>\n      <td>20</td>\n      <td>9.0</td>\n      <td>5.0</td>\n      <td>0</td>\n      <td>0</td>\n      <td>0</td>\n      <td>0</td>\n      <td>97</td>\n    </tr>\n  </tbody>\n</table>\n<p>97 rows × 13 columns</p>\n</div>"
     },
     "metadata": {},
     "output_type": "display_data"
    }
   ],
   "source": [
    "file_path = \"fish.csv\"\n",
    "fish = pd.read_csv(file_path)\n",
    "display(fish)"
   ],
   "metadata": {
    "collapsed": false,
    "ExecuteTime": {
     "end_time": "2023-11-27T21:57:43.542258Z",
     "start_time": "2023-11-27T21:57:43.511062Z"
    }
   }
  },
  {
   "cell_type": "markdown",
   "source": [
    "## Part 1\n",
    "\n",
    "For the first few questions, we use the variable `lavgprc` (= the log of the average price for fish) as the dependent variable."
   ],
   "metadata": {
    "collapsed": false
   }
  },
  {
   "cell_type": "markdown",
   "source": [
    "### a)"
   ],
   "metadata": {
    "collapsed": false
   }
  },
  {
   "cell_type": "code",
   "execution_count": 3,
   "outputs": [
    {
     "name": "stdout",
     "output_type": "stream",
     "text": [
      "                            OLS Regression Results                            \n",
      "==============================================================================\n",
      "Dep. Variable:                lavgprc   R-squared:                       0.085\n",
      "Model:                            OLS   Adj. R-squared:                  0.035\n",
      "Method:                 Least Squares   F-statistic:                     1.701\n",
      "Date:                Mon, 27 Nov 2023   Prob (F-statistic):              0.142\n",
      "Time:                        22:57:43   Log-Likelihood:                -45.022\n",
      "No. Observations:                  97   AIC:                             102.0\n",
      "Df Residuals:                      91   BIC:                             117.5\n",
      "Df Model:                           5                                         \n",
      "Covariance Type:            nonrobust                                         \n",
      "==============================================================================\n",
      "                 coef    std err          t      P>|t|      [0.025      0.975]\n",
      "------------------------------------------------------------------------------\n",
      "const         -0.0730      0.115     -0.633      0.528      -0.302       0.156\n",
      "mon           -0.0101      0.129     -0.078      0.938      -0.267       0.247\n",
      "tues          -0.0088      0.127     -0.069      0.945      -0.262       0.244\n",
      "wed            0.0376      0.126      0.299      0.765      -0.212       0.287\n",
      "thurs          0.0906      0.126      0.721      0.473      -0.159       0.340\n",
      "t             -0.0040      0.001     -2.763      0.007      -0.007      -0.001\n",
      "==============================================================================\n",
      "Omnibus:                        0.260   Durbin-Watson:                   0.547\n",
      "Prob(Omnibus):                  0.878   Jarque-Bera (JB):                0.435\n",
      "Skew:                          -0.069   Prob(JB):                        0.805\n",
      "Kurtosis:                       2.703   Cond. No.                         305.\n",
      "==============================================================================\n",
      "\n",
      "Notes:\n",
      "[1] Standard Errors assume that the covariance matrix of the errors is correctly specified.\n"
     ]
    }
   ],
   "source": [
    "# Define the variables\n",
    "y = fish['lavgprc']  # Dependent variable\n",
    "X = fish[['mon', 'tues', 'wed', 'thurs', 't']]  # Independent variables\n",
    "\n",
    "# Add a constant term for the intercept\n",
    "X = sm.add_constant(X)\n",
    "\n",
    "# Perform the regression\n",
    "model = sm.OLS(y, X).fit()\n",
    "\n",
    "# Display the regression results\n",
    "print(model.summary())"
   ],
   "metadata": {
    "collapsed": false,
    "ExecuteTime": {
     "end_time": "2023-11-27T21:57:43.558616Z",
     "start_time": "2023-11-27T21:57:43.544597Z"
    }
   }
  },
  {
   "cell_type": "markdown",
   "source": [
    "***Answer:*** Statistically no evidence that price varies within a week. Indeed, p-values of week-day variables are all bigger than the 5% significance level."
   ],
   "metadata": {
    "collapsed": false
   }
  },
  {
   "cell_type": "markdown",
   "source": [
    "### b)"
   ],
   "metadata": {
    "collapsed": false
   }
  },
  {
   "cell_type": "code",
   "execution_count": 4,
   "outputs": [
    {
     "name": "stdout",
     "output_type": "stream",
     "text": [
      "                            OLS Regression Results                            \n",
      "==============================================================================\n",
      "Dep. Variable:                lavgprc   R-squared:                       0.309\n",
      "Model:                            OLS   Adj. R-squared:                  0.255\n",
      "Method:                 Least Squares   F-statistic:                     5.699\n",
      "Date:                Mon, 27 Nov 2023   Prob (F-statistic):           1.84e-05\n",
      "Time:                        22:57:43   Log-Likelihood:                -31.396\n",
      "No. Observations:                  97   AIC:                             78.79\n",
      "Df Residuals:                      89   BIC:                             99.39\n",
      "Df Model:                           7                                         \n",
      "Covariance Type:            nonrobust                                         \n",
      "==============================================================================\n",
      "                 coef    std err          t      P>|t|      [0.025      0.975]\n",
      "------------------------------------------------------------------------------\n",
      "const         -0.9203      0.190     -4.848      0.000      -1.297      -0.543\n",
      "mon           -0.0182      0.114     -0.159      0.874      -0.245       0.208\n",
      "tues          -0.0085      0.112     -0.076      0.940      -0.231       0.214\n",
      "wed            0.0500      0.112      0.448      0.655      -0.172       0.272\n",
      "thurs          0.1225      0.111      1.104      0.272      -0.098       0.343\n",
      "t             -0.0012      0.001     -0.832      0.408      -0.004       0.002\n",
      "wave2          0.0909      0.022      4.178      0.000       0.048       0.134\n",
      "wave3          0.0474      0.021      2.276      0.025       0.006       0.089\n",
      "==============================================================================\n",
      "Omnibus:                        8.324   Durbin-Watson:                   0.745\n",
      "Prob(Omnibus):                  0.016   Jarque-Bera (JB):                7.952\n",
      "Skew:                          -0.628   Prob(JB):                       0.0188\n",
      "Kurtosis:                       3.625   Cond. No.                         345.\n",
      "==============================================================================\n",
      "\n",
      "Notes:\n",
      "[1] Standard Errors assume that the covariance matrix of the errors is correctly specified.\n"
     ]
    }
   ],
   "source": [
    "# Define the variables\n",
    "y = fish['lavgprc']  # Dependent variable\n",
    "X = fish[['mon', 'tues', 'wed', 'thurs', 't', 'wave2', 'wave3']]  # Independent variables\n",
    "\n",
    "# Add a constant term for the intercept\n",
    "X = sm.add_constant(X)\n",
    "\n",
    "# Perform the regression\n",
    "model_with_wave = sm.OLS(y, X).fit()\n",
    "\n",
    "# Display the regression results\n",
    "print(model_with_wave.summary())"
   ],
   "metadata": {
    "collapsed": false,
    "ExecuteTime": {
     "end_time": "2023-11-27T21:57:43.642563Z",
     "start_time": "2023-11-27T21:57:43.559652Z"
    }
   }
  },
  {
   "cell_type": "code",
   "execution_count": 5,
   "outputs": [
    {
     "name": "stdout",
     "output_type": "stream",
     "text": [
      "F-statistic : 14.436\n",
      "p-value : 0.000\n"
     ]
    }
   ],
   "source": [
    "# Let's see if wave2 and wave3 are jointly significant\n",
    "f_test = model_with_wave.compare_f_test(model)\n",
    "\n",
    "# Print the results\n",
    "print(f\"F-statistic : {f_test[0]:.3f}\")\n",
    "print(f\"p-value : {f_test[1]:.3f}\")"
   ],
   "metadata": {
    "collapsed": false,
    "ExecuteTime": {
     "end_time": "2023-11-27T21:57:43.643091Z",
     "start_time": "2023-11-27T21:57:43.582137Z"
    }
   }
  },
  {
   "cell_type": "markdown",
   "source": [
    "***Answer:*** From previous results, we see that variable `wave2` and `wave3` are individually and jointly statically significant at a $5\\%$ significance level. These positives estimators can be explained by the fact that stormy seas won't allow fisher to fish. Although fewer fish are available for sale, the demand during this period may not necessarily decrease. This imbalance between supply and demand is likely to result in an increase in fish prices."
   ],
   "metadata": {
    "collapsed": false
   }
  },
  {
   "cell_type": "markdown",
   "source": [
    "### c)"
   ],
   "metadata": {
    "collapsed": false
   }
  },
  {
   "cell_type": "code",
   "execution_count": 6,
   "outputs": [
    {
     "name": "stdout",
     "output_type": "stream",
     "text": [
      "Model 1 (restricted), 't' estimator:\n",
      "Coefficient: -0.0040\n",
      "P-value: 0.0069\n",
      "\n",
      "Model 2 (not restricted), 't' estimator:\n",
      "Coefficient: -0.0012\n",
      "P-value: 0.4075\n"
     ]
    }
   ],
   "source": [
    "# Print the description of the regression for 't' in the restricted model\n",
    "print(f\"Model 1 (restricted), 't' estimator:\")\n",
    "print(f\"Coefficient: {model.params['t']:.4f}\")\n",
    "print(f\"P-value: {model.pvalues['t']:.4f}\\n\")\n",
    "\n",
    "# Print the description of the regression for 't' in the not restricted model\n",
    "print(f\"Model 2 (not restricted), 't' estimator:\")\n",
    "print(f\"Coefficient: {model_with_wave.params['t']:.4f}\")\n",
    "print(f\"P-value: {model_with_wave.pvalues['t']:.4f}\")"
   ],
   "metadata": {
    "collapsed": false,
    "ExecuteTime": {
     "end_time": "2023-11-27T21:57:43.643313Z",
     "start_time": "2023-11-27T21:57:43.589263Z"
    }
   }
  },
  {
   "cell_type": "markdown",
   "source": [
    "***Answer:*** Indeed, the time trend variable `t` was firstly statistically relevant and became not relevant with the addition of the `wave2` and `wave3` variables. We are observing a situation known as the Omitted Variable Bias (c.f. Ch3 slide 37)."
   ],
   "metadata": {
    "collapsed": false
   }
  },
  {
   "cell_type": "markdown",
   "source": [
    "### d)"
   ],
   "metadata": {
    "collapsed": false
   }
  },
  {
   "cell_type": "code",
   "execution_count": 7,
   "outputs": [
    {
     "data": {
      "text/plain": "<Figure size 500x300 with 1 Axes>",
      "image/png": "[encoded data removed]"
     },
     "metadata": {},
     "output_type": "display_data"
    }
   ],
   "source": [
    "# Retrieve residuals of model from b)\n",
    "residuals = model_with_wave.resid\n",
    "\n",
    "# Initialize the figure to see the evolution\n",
    "fig = plt.figure(figsize=(5,3))\n",
    "\n",
    "# Plot the residuals in function of the time variable\n",
    "plt.plot(fish['t'], residuals)\n",
    "plt.scatter(fish['t'], residuals, s=5)\n",
    "\n",
    "plt.xlabel('time period')\n",
    "plt.ylabel('residuals')\n",
    "plt.title('Time Series of the Residuals')\n",
    "plt.grid()\n",
    "\n",
    "plt.show()"
   ],
   "metadata": {
    "collapsed": false,
    "ExecuteTime": {
     "end_time": "2023-11-27T21:57:43.857238Z",
     "start_time": "2023-11-27T21:57:43.593910Z"
    }
   }
  },
  {
   "cell_type": "markdown",
   "source": [
    "***Answer:*** By examining the plot, it appears that there may be a positive autocorrelation. The residuals do not exhibit random distribution; instead, there is a noticeable tendency for them to follow a pattern. Additionally, the absence of a change in sign at each residual step time suggests a positive, and not negative, autocorrelation.\n",
    "\n",
    "Let's dig a bit more in it by testing for AR(1) more formally with Durbin-Watson tests (c.f. Ch.4b) slide 12). Also we could check for higher autocorrelation with the Breusch-Godfrey test (c.f. Ch.4b) slide 11), but not requested by the assignment."
   ],
   "metadata": {
    "collapsed": false
   }
  },
  {
   "cell_type": "code",
   "execution_count": 8,
   "outputs": [
    {
     "name": "stdout",
     "output_type": "stream",
     "text": [
      "Durbin-Watson Statistic: 0.745\n",
      "Expected value of residuals: -0.000\n"
     ]
    }
   ],
   "source": [
    "# Perform the Durbin-Watson test\n",
    "durbin_watson_statistic = sm.stats.stattools.durbin_watson(residuals)\n",
    "\n",
    "# Print the results of Durbin-Watson statistic\n",
    "print(f'Durbin-Watson Statistic: {durbin_watson_statistic:.3f}')\n",
    "print(f'Expected value of residuals: {residuals.mean():.3f}')"
   ],
   "metadata": {
    "collapsed": false,
    "ExecuteTime": {
     "end_time": "2023-11-27T21:57:43.857653Z",
     "start_time": "2023-11-27T21:57:43.857038Z"
    }
   }
  },
  {
   "cell_type": "markdown",
   "source": [
    "***Answer (cont'd):*** By looking at the lecture of chapter 4b) slide 13 we retrieve the approximate values of $d_L\\approx1.506$ and $d_U\\approx1.850$ (we choose $K=8\\approx9$ and $T=97\\approx100$ to retrieve these critical values). Since the statistic value of Durbin-Watson test is less than $d_U$, we reject the null stating $\\rho=0$. We can statistically be confident that it exists a positive auto correlation at a $5\\%$ significance level.\n",
    "\n",
    "Presence of autocorrelation violate the A4 assumption ($Cov\\{\\epsilon_i, \\epsilon_j\\}=0$, but since we have A2 ($E(\\epsilon|X)=0$) we can say that estimator are unbiased but not BLUE anymore.\n",
    "\n",
    "Also, in this context, our usual standard errors are wrong.\n",
    "\n",
    "(c.f. Ch4b) slide 3)"
   ],
   "metadata": {
    "collapsed": false
   }
  },
  {
   "cell_type": "markdown",
   "source": [
    "### e)"
   ],
   "metadata": {
    "collapsed": false
   }
  },
  {
   "cell_type": "code",
   "execution_count": 9,
   "outputs": [
    {
     "data": {
      "text/plain": "       Coefficient  Standard Error  T-Statistic   P-value\nconst    -0.920254        0.250645    -3.671539  0.000411\nmon      -0.018158        0.095637    -0.189863  0.849849\ntues     -0.008533        0.107378    -0.079468  0.936839\nwed       0.050041        0.094109     0.531731  0.596237\nthurs     0.122546        0.064364     1.903943  0.060149\nt        -0.001157        0.001919    -0.603017  0.548031\nwave2     0.090891        0.022388     4.059871  0.000105\nwave3     0.047375        0.018676     2.536700  0.012933",
      "text/html": "<div>\n<style scoped>\n    .dataframe tbody tr th:only-of-type {\n        vertical-align: middle;\n    }\n\n    .dataframe tbody tr th {\n        vertical-align: top;\n    }\n\n    .dataframe thead th {\n        text-align: right;\n    }\n</style>\n<table border=\"1\" class=\"dataframe\">\n  <thead>\n    <tr style=\"text-align: right;\">\n      <th></th>\n      <th>Coefficient</th>\n      <th>Standard Error</th>\n      <th>T-Statistic</th>\n      <th>P-value</th>\n    </tr>\n  </thead>\n  <tbody>\n    <tr>\n      <th>const</th>\n      <td>-0.920254</td>\n      <td>0.250645</td>\n      <td>-3.671539</td>\n      <td>0.000411</td>\n    </tr>\n    <tr>\n      <th>mon</th>\n      <td>-0.018158</td>\n      <td>0.095637</td>\n      <td>-0.189863</td>\n      <td>0.849849</td>\n    </tr>\n    <tr>\n      <th>tues</th>\n      <td>-0.008533</td>\n      <td>0.107378</td>\n      <td>-0.079468</td>\n      <td>0.936839</td>\n    </tr>\n    <tr>\n      <th>wed</th>\n      <td>0.050041</td>\n      <td>0.094109</td>\n      <td>0.531731</td>\n      <td>0.596237</td>\n    </tr>\n    <tr>\n      <th>thurs</th>\n      <td>0.122546</td>\n      <td>0.064364</td>\n      <td>1.903943</td>\n      <td>0.060149</td>\n    </tr>\n    <tr>\n      <th>t</th>\n      <td>-0.001157</td>\n      <td>0.001919</td>\n      <td>-0.603017</td>\n      <td>0.548031</td>\n    </tr>\n    <tr>\n      <th>wave2</th>\n      <td>0.090891</td>\n      <td>0.022388</td>\n      <td>4.059871</td>\n      <td>0.000105</td>\n    </tr>\n    <tr>\n      <th>wave3</th>\n      <td>0.047375</td>\n      <td>0.018676</td>\n      <td>2.536700</td>\n      <td>0.012933</td>\n    </tr>\n  </tbody>\n</table>\n</div>"
     },
     "execution_count": 9,
     "metadata": {},
     "output_type": "execute_result"
    }
   ],
   "source": [
    "# Obtain Newey-West standard errors with four lags\n",
    "newey_west_results = model_with_wave.get_robustcov_results(cov_type='HAC', maxlags=4)\n",
    "\n",
    "results_data = pd.DataFrame(\n",
    "    {\n",
    "    'Coefficient': newey_west_results.params,\n",
    "    'Standard Error': newey_west_results.bse,\n",
    "    'T-Statistic': newey_west_results.tvalues,\n",
    "    'P-value': newey_west_results.pvalues\n",
    "}\n",
    ", index=X.columns)\n",
    "\n",
    "results_data"
   ],
   "metadata": {
    "collapsed": false,
    "ExecuteTime": {
     "end_time": "2023-11-27T21:57:43.857915Z",
     "start_time": "2023-11-27T21:57:43.857396Z"
    }
   }
  },
  {
   "cell_type": "markdown",
   "source": [
    "***Answer:*** Both variables `wave2` and `wave3` seem to have p-values equal or smaller than the ones at step $b)$. Then, we can be as much or even more confident in the fact that their impact are statistically significant on the `lavgprc` dependant variable."
   ],
   "metadata": {
    "collapsed": false
   }
  },
  {
   "cell_type": "markdown",
   "source": [
    "### f)"
   ],
   "metadata": {
    "collapsed": false
   }
  },
  {
   "cell_type": "code",
   "execution_count": 10,
   "outputs": [
    {
     "name": "stdout",
     "output_type": "stream",
     "text": [
      "Rho value = 0.577\n",
      "Transformed data with Prais-Winsten method :\n"
     ]
    },
    {
     "data": {
      "text/plain": "    lavgprc_trans  const_trans  mon_trans  tues_trans  wed_trans  thurs_trans  \\\n0       -0.291037     0.816909   0.816909    0.000000   0.000000     0.000000   \n1        0.210804     0.423234  -0.576766    0.000000   1.000000     0.000000   \n2        0.329049     0.423234   0.000000    0.000000  -0.576766     1.000000   \n3        0.382520     0.423234   0.000000    0.000000   0.000000    -0.576766   \n4       -0.521301     0.423234   1.000000    0.000000   0.000000     0.000000   \n..            ...          ...        ...         ...        ...          ...   \n92      -0.174913     0.423234   1.000000    0.000000   0.000000     0.000000   \n93       0.390752     0.423234  -0.576766    1.000000   0.000000     0.000000   \n94       0.269798     0.423234   0.000000   -0.576766   1.000000     0.000000   \n95       0.099740     0.423234   0.000000    0.000000  -0.576766     1.000000   \n96       0.416965     0.423234   0.000000    0.000000   0.000000    -0.576766   \n\n      t_trans  wave2_trans  wave3_trans  \n0    0.816909     6.126819     7.352183  \n1    1.423234     0.674253     2.309104  \n2    1.846468     3.116169    -0.325747  \n3    2.269701     2.539403     2.692935  \n4    2.692935     0.039403     0.616169  \n..        ...          ...          ...  \n92  39.937506     2.481318     1.769701  \n93  40.360740     1.904552     1.981318  \n94  40.783973     2.404552     2.192935  \n95  41.207207     3.116169     1.904552  \n96  41.630441     5.539403     2.404552  \n\n[97 rows x 9 columns]",
      "text/html": "<div>\n<style scoped>\n    .dataframe tbody tr th:only-of-type {\n        vertical-align: middle;\n    }\n\n    .dataframe tbody tr th {\n        vertical-align: top;\n    }\n\n    .dataframe thead th {\n        text-align: right;\n    }\n</style>\n<table border=\"1\" class=\"dataframe\">\n  <thead>\n    <tr style=\"text-align: right;\">\n      <th></th>\n      <th>lavgprc_trans</th>\n      <th>const_trans</th>\n      <th>mon_trans</th>\n      <th>tues_trans</th>\n      <th>wed_trans</th>\n      <th>thurs_trans</th>\n      <th>t_trans</th>\n      <th>wave2_trans</th>\n      <th>wave3_trans</th>\n    </tr>\n  </thead>\n  <tbody>\n    <tr>\n      <th>0</th>\n      <td>-0.291037</td>\n      <td>0.816909</td>\n      <td>0.816909</td>\n      <td>0.000000</td>\n      <td>0.000000</td>\n      <td>0.000000</td>\n      <td>0.816909</td>\n      <td>6.126819</td>\n      <td>7.352183</td>\n    </tr>\n    <tr>\n      <th>1</th>\n      <td>0.210804</td>\n      <td>0.423234</td>\n      <td>-0.576766</td>\n      <td>0.000000</td>\n      <td>1.000000</td>\n      <td>0.000000</td>\n      <td>1.423234</td>\n      <td>0.674253</td>\n      <td>2.309104</td>\n    </tr>\n    <tr>\n      <th>2</th>\n      <td>0.329049</td>\n      <td>0.423234</td>\n      <td>0.000000</td>\n      <td>0.000000</td>\n      <td>-0.576766</td>\n      <td>1.000000</td>\n      <td>1.846468</td>\n      <td>3.116169</td>\n      <td>-0.325747</td>\n    </tr>\n    <tr>\n      <th>3</th>\n      <td>0.382520</td>\n      <td>0.423234</td>\n      <td>0.000000</td>\n      <td>0.000000</td>\n      <td>0.000000</td>\n      <td>-0.576766</td>\n      <td>2.269701</td>\n      <td>2.539403</td>\n      <td>2.692935</td>\n    </tr>\n    <tr>\n      <th>4</th>\n      <td>-0.521301</td>\n      <td>0.423234</td>\n      <td>1.000000</td>\n      <td>0.000000</td>\n      <td>0.000000</td>\n      <td>0.000000</td>\n      <td>2.692935</td>\n      <td>0.039403</td>\n      <td>0.616169</td>\n    </tr>\n    <tr>\n      <th>...</th>\n      <td>...</td>\n      <td>...</td>\n      <td>...</td>\n      <td>...</td>\n      <td>...</td>\n      <td>...</td>\n      <td>...</td>\n      <td>...</td>\n      <td>...</td>\n    </tr>\n    <tr>\n      <th>92</th>\n      <td>-0.174913</td>\n      <td>0.423234</td>\n      <td>1.000000</td>\n      <td>0.000000</td>\n      <td>0.000000</td>\n      <td>0.000000</td>\n      <td>39.937506</td>\n      <td>2.481318</td>\n      <td>1.769701</td>\n    </tr>\n    <tr>\n      <th>93</th>\n      <td>0.390752</td>\n      <td>0.423234</td>\n      <td>-0.576766</td>\n      <td>1.000000</td>\n      <td>0.000000</td>\n      <td>0.000000</td>\n      <td>40.360740</td>\n      <td>1.904552</td>\n      <td>1.981318</td>\n    </tr>\n    <tr>\n      <th>94</th>\n      <td>0.269798</td>\n      <td>0.423234</td>\n      <td>0.000000</td>\n      <td>-0.576766</td>\n      <td>1.000000</td>\n      <td>0.000000</td>\n      <td>40.783973</td>\n      <td>2.404552</td>\n      <td>2.192935</td>\n    </tr>\n    <tr>\n      <th>95</th>\n      <td>0.099740</td>\n      <td>0.423234</td>\n      <td>0.000000</td>\n      <td>0.000000</td>\n      <td>-0.576766</td>\n      <td>1.000000</td>\n      <td>41.207207</td>\n      <td>3.116169</td>\n      <td>1.904552</td>\n    </tr>\n    <tr>\n      <th>96</th>\n      <td>0.416965</td>\n      <td>0.423234</td>\n      <td>0.000000</td>\n      <td>0.000000</td>\n      <td>0.000000</td>\n      <td>-0.576766</td>\n      <td>41.630441</td>\n      <td>5.539403</td>\n      <td>2.404552</td>\n    </tr>\n  </tbody>\n</table>\n<p>97 rows × 9 columns</p>\n</div>"
     },
     "metadata": {},
     "output_type": "display_data"
    }
   ],
   "source": [
    "# First let's compute rho\n",
    "residuals = model_with_wave.resid\n",
    "residuals_shifted = residuals.shift(periods=1,  #shift all values and ...\n",
    "                                    fill_value=residuals.iloc[-1])  #... give the last value to the first\n",
    "\n",
    "# Perform the regression\n",
    "residuals_model = sm.OLS(residuals, residuals_shifted).fit()\n",
    "\n",
    "# Retrieve rho\n",
    "rho = residuals_model.params.values.item()\n",
    "print('Rho value = {:.3f}'.format(rho))\n",
    "\n",
    "# Cochrane–Orcutt transformation\n",
    "fish_transformed = pd.DataFrame()\n",
    "fish_transformed['lavgprc_trans'] = fish['lavgprc'] - rho*fish['lavgprc'].shift(1)  #transform label\n",
    "fish_transformed['const_trans'] = np.ones(fish_transformed.shape[0])-rho  #transform constant\n",
    "independent_variable = ['mon', 'tues', 'wed', 'thurs', 't', 'wave2', 'wave3']\n",
    "independent_variable_renamed = [word + \"_trans\" for word in independent_variable]  #rename the column properly\n",
    "fish_transformed[independent_variable_renamed] = fish[independent_variable] - rho*fish[independent_variable].shift(1)  #transform independent variables\n",
    "\n",
    "# Prais-Winsten step to retrieve transformed data for t=1\n",
    "fish_transformed['lavgprc_trans'].iloc[0] = np.sqrt(1-rho**2)*fish['lavgprc'].iloc[0]\n",
    "fish_transformed['const_trans'].iloc[0] = np.sqrt(1-rho**2)\n",
    "for x, x_trans in zip(independent_variable,independent_variable_renamed):\n",
    "    fish_transformed[x_trans].iloc[0] = np.sqrt(1-rho**2)*fish[x].iloc[0]\n",
    "\n",
    "# Display the transformed data\n",
    "print(\"Transformed data with Prais-Winsten method :\")\n",
    "display(fish_transformed)"
   ],
   "metadata": {
    "collapsed": false,
    "ExecuteTime": {
     "end_time": "2023-11-27T21:57:43.952075Z",
     "start_time": "2023-11-27T21:57:43.857533Z"
    }
   }
  },
  {
   "cell_type": "markdown",
   "source": [
    "Transformation formulas from Ch 4b) slide 7 and also help of [wiki](https://en.wikipedia.org/wiki/Prais–Winsten_estimation).\n",
    "\n",
    "Now we can perform an OLS regression on the transformed data to retrieve the Prais-Winsten estimators."
   ],
   "metadata": {
    "collapsed": false
   }
  },
  {
   "cell_type": "code",
   "execution_count": 11,
   "outputs": [
    {
     "name": "stdout",
     "output_type": "stream",
     "text": [
      "                            OLS Regression Results                            \n",
      "==============================================================================\n",
      "Dep. Variable:                lavgprc   R-squared:                       0.309\n",
      "Model:                            OLS   Adj. R-squared:                  0.255\n",
      "Method:                 Least Squares   F-statistic:                     5.699\n",
      "Date:                Mon, 27 Nov 2023   Prob (F-statistic):           1.84e-05\n",
      "Time:                        22:57:43   Log-Likelihood:                -31.396\n",
      "No. Observations:                  97   AIC:                             78.79\n",
      "Df Residuals:                      89   BIC:                             99.39\n",
      "Df Model:                           7                                         \n",
      "Covariance Type:            nonrobust                                         \n",
      "==============================================================================\n",
      "                 coef    std err          t      P>|t|      [0.025      0.975]\n",
      "------------------------------------------------------------------------------\n",
      "const         -0.9203      0.190     -4.848      0.000      -1.297      -0.543\n",
      "mon           -0.0182      0.114     -0.159      0.874      -0.245       0.208\n",
      "tues          -0.0085      0.112     -0.076      0.940      -0.231       0.214\n",
      "wed            0.0500      0.112      0.448      0.655      -0.172       0.272\n",
      "thurs          0.1225      0.111      1.104      0.272      -0.098       0.343\n",
      "t             -0.0012      0.001     -0.832      0.408      -0.004       0.002\n",
      "wave2          0.0909      0.022      4.178      0.000       0.048       0.134\n",
      "wave3          0.0474      0.021      2.276      0.025       0.006       0.089\n",
      "==============================================================================\n",
      "Omnibus:                        8.324   Durbin-Watson:                   0.745\n",
      "Prob(Omnibus):                  0.016   Jarque-Bera (JB):                7.952\n",
      "Skew:                          -0.628   Prob(JB):                       0.0188\n",
      "Kurtosis:                       3.625   Cond. No.                         345.\n",
      "==============================================================================\n",
      "\n",
      "Notes:\n",
      "[1] Standard Errors assume that the covariance matrix of the errors is correctly specified.\n"
     ]
    }
   ],
   "source": [
    "# Define the variables\n",
    "y = fish_transformed['lavgprc_trans']  # Dependent variable\n",
    "X = fish_transformed[['const_trans', 'mon_trans', 'tues_trans',\n",
    "                      'wed_trans', 'thurs_trans', 't_trans',\n",
    "                      'wave2_trans', 'wave3_trans']]  # Independent variables\n",
    "\n",
    "# Perform the regression\n",
    "model_with_transformed_data = sm.OLS(y, X).fit()\n",
    "\n",
    "# Display the regression results\n",
    "print(model_with_wave.summary())"
   ],
   "metadata": {
    "collapsed": false,
    "ExecuteTime": {
     "end_time": "2023-11-27T21:57:43.952387Z",
     "start_time": "2023-11-27T21:57:43.892589Z"
    }
   }
  },
  {
   "cell_type": "markdown",
   "source": [
    "Now we are asked to tell if `wave2` and `wave3` are jointly statistically significant. Let's compute the correct F-test to check that."
   ],
   "metadata": {
    "collapsed": false
   }
  },
  {
   "cell_type": "code",
   "execution_count": 12,
   "outputs": [
    {
     "name": "stdout",
     "output_type": "stream",
     "text": [
      "F-statistic : 6.305\n",
      "p-value : 0.003\n"
     ]
    }
   ],
   "source": [
    "# Define the variables\n",
    "y = fish_transformed['lavgprc_trans']  # Dependent variable\n",
    "X = fish_transformed[['const_trans', 'mon_trans', 'tues_trans', 'wed_trans',\n",
    "                      'thurs_trans', 't_trans']]  # Independent variables\n",
    "\n",
    "# Perform the regression\n",
    "restricted_model_with_transformed_data = sm.OLS(y, X).fit()\n",
    "\n",
    "# Perform the test and print the results\n",
    "f_test = model_with_transformed_data.compare_f_test(restricted_model_with_transformed_data)\n",
    "\n",
    "# Print the results\n",
    "print(f\"F-statistic : {f_test[0]:.3f}\")\n",
    "print(f\"p-value : {f_test[1]:.3f}\")"
   ],
   "metadata": {
    "collapsed": false,
    "ExecuteTime": {
     "end_time": "2023-11-27T21:57:43.952859Z",
     "start_time": "2023-11-27T21:57:43.913229Z"
    }
   }
  },
  {
   "cell_type": "markdown",
   "source": [
    "***Answer:*** Our test tells us that we can reject the null hypothesis (p-value = $0.3\\%$). Then the variables `wave2` and `wave3` are jointly statistically significant. Let's now compute the estimated magnitude of the auto correlation in the error term."
   ],
   "metadata": {
    "collapsed": false
   }
  },
  {
   "cell_type": "code",
   "execution_count": 13,
   "outputs": [
    {
     "data": {
      "text/plain": "0.23703190753106643"
     },
     "execution_count": 13,
     "metadata": {},
     "output_type": "execute_result"
    }
   ],
   "source": [
    "# TODO: What ?? Can't understand why both residuals are equal. Then they have also same autocorrelation... Weird. I did several mistakes, surely.\n",
    "\n",
    "# (model_with_wave.resid - model_with_transformed_data.resid).mean()\n",
    "model_with_transformed_data.resid.autocorr()"
   ],
   "metadata": {
    "collapsed": false,
    "ExecuteTime": {
     "end_time": "2023-11-27T21:57:43.953329Z",
     "start_time": "2023-11-27T21:57:43.920628Z"
    }
   }
  },
  {
   "cell_type": "markdown",
   "source": [
    "## Part 2"
   ],
   "metadata": {
    "collapsed": false
   }
  },
  {
   "cell_type": "markdown",
   "source": [
    "### g)"
   ],
   "metadata": {
    "collapsed": false
   }
  },
  {
   "cell_type": "code",
   "execution_count": 14,
   "outputs": [
    {
     "name": "stdout",
     "output_type": "stream",
     "text": [
      "                            OLS Regression Results                            \n",
      "==============================================================================\n",
      "Dep. Variable:                ltotqty   R-squared:                       0.219\n",
      "Model:                            OLS   Adj. R-squared:                  0.167\n",
      "Method:                 Least Squares   F-statistic:                     4.201\n",
      "Date:                Mon, 27 Nov 2023   Prob (F-statistic):           0.000903\n",
      "Time:                        22:57:43   Log-Likelihood:                -99.132\n",
      "No. Observations:                  97   AIC:                             212.3\n",
      "Df Residuals:                      90   BIC:                             230.3\n",
      "Df Model:                           6                                         \n",
      "Covariance Type:            nonrobust                                         \n",
      "==============================================================================\n",
      "                 coef    std err          t      P>|t|      [0.025      0.975]\n",
      "------------------------------------------------------------------------------\n",
      "const          8.3011      0.203     40.935      0.000       7.898       8.704\n",
      "lavgprc       -0.5489      0.184     -2.981      0.004      -0.915      -0.183\n",
      "mon           -0.3175      0.227     -1.398      0.166      -0.769       0.134\n",
      "tues          -0.6836      0.224     -3.057      0.003      -1.128      -0.239\n",
      "wed           -0.5353      0.221     -2.423      0.017      -0.974      -0.096\n",
      "thurs          0.0683      0.221      0.308      0.759      -0.372       0.508\n",
      "t             -0.0012      0.003     -0.473      0.637      -0.006       0.004\n",
      "==============================================================================\n",
      "Omnibus:                       18.269   Durbin-Watson:                   1.498\n",
      "Prob(Omnibus):                  0.000   Jarque-Bera (JB):               26.771\n",
      "Skew:                          -0.853   Prob(JB):                     1.54e-06\n",
      "Kurtosis:                       4.926   Cond. No.                         305.\n",
      "==============================================================================\n",
      "\n",
      "Notes:\n",
      "[1] Standard Errors assume that the covariance matrix of the errors is correctly specified.\n"
     ]
    }
   ],
   "source": [
    "# Define the variables\n",
    "y = fish['ltotqty']  # Dependent variable\n",
    "X = fish[['lavgprc', 'mon', 'tues', 'wed', 'thurs', 't']]  # Independent variables\n",
    "\n",
    "# Add a constant term for the intercept\n",
    "X = sm.add_constant(X)\n",
    "\n",
    "# Perform the regression\n",
    "model = sm.OLS(y, X).fit()\n",
    "\n",
    "# Display the regression results\n",
    "print(model.summary())"
   ],
   "metadata": {
    "collapsed": false,
    "ExecuteTime": {
     "end_time": "2023-11-27T21:57:44.007691Z",
     "start_time": "2023-11-27T21:57:43.946714Z"
    }
   }
  },
  {
   "cell_type": "markdown",
   "source": [
    "***Answer:*** Estimator of $log(price)$ is negative, meaning the more expansive is fish, the less quantity we have.\n",
    "We are trying to regress a variable with one variable that is probably strongly correlated to the quantity variable. We are in the \"Simultaneity and reverse causality\" part.\n",
    "\n",
    "(c.f. Chap 5a slide 16)"
   ],
   "metadata": {
    "collapsed": false
   }
  },
  {
   "cell_type": "markdown",
   "source": [
    "### h)\n",
    "\n",
    "***Answer:***\n",
    "\n",
    "An instrument variable needs to fulfill two conditions :\n",
    "1) relevance condition ($Cov(x_i, z_i)\\neq0$)\n",
    "2) exclusion restriction ($Cov(\\epsilon_i, z_i)=0$)\n",
    "\n",
    "c.f. Ch 5a slide 19\n",
    "\n",
    "In our case, the relevance condition looks plausible. Bad maritime conditions would certainly impact the fished quantity and then the price. So both variable seem correlated to each other at a certain degree. the second condition is less tangible, but can be plausible also."
   ],
   "metadata": {
    "collapsed": false
   }
  },
  {
   "cell_type": "markdown",
   "source": [
    "### i)\n",
    "\n",
    "First let's try it by hand."
   ],
   "metadata": {
    "collapsed": false
   }
  },
  {
   "cell_type": "code",
   "execution_count": 15,
   "outputs": [
    {
     "name": "stdout",
     "output_type": "stream",
     "text": [
      "                            OLS Regression Results                            \n",
      "==============================================================================\n",
      "Dep. Variable:                lavgprc   R-squared:                       0.269\n",
      "Model:                            OLS   Adj. R-squared:                  0.221\n",
      "Method:                 Least Squares   F-statistic:                     5.528\n",
      "Date:                Mon, 27 Nov 2023   Prob (F-statistic):           6.52e-05\n",
      "Time:                        22:57:43   Log-Likelihood:                -34.141\n",
      "No. Observations:                  97   AIC:                             82.28\n",
      "Df Residuals:                      90   BIC:                             100.3\n",
      "Df Model:                           6                                         \n",
      "Covariance Type:            nonrobust                                         \n",
      "==============================================================================\n",
      "                 coef    std err          t      P>|t|      [0.025      0.975]\n",
      "------------------------------------------------------------------------------\n",
      "const         -0.7056      0.169     -4.187      0.000      -1.040      -0.371\n",
      "wave2          0.1028      0.022      4.758      0.000       0.060       0.146\n",
      "mon           -0.0365      0.116     -0.313      0.755      -0.268       0.195\n",
      "tues           0.0072      0.114      0.063      0.950      -0.220       0.235\n",
      "wed            0.0825      0.113      0.728      0.469      -0.143       0.308\n",
      "thurs          0.1361      0.113      1.201      0.233      -0.089       0.361\n",
      "t             -0.0021      0.001     -1.552      0.124      -0.005       0.001\n",
      "==============================================================================\n",
      "Omnibus:                        6.517   Durbin-Watson:                   0.786\n",
      "Prob(Omnibus):                  0.038   Jarque-Bera (JB):                6.096\n",
      "Skew:                          -0.602   Prob(JB):                       0.0474\n",
      "Kurtosis:                       3.244   Cond. No.                         330.\n",
      "==============================================================================\n",
      "\n",
      "Notes:\n",
      "[1] Standard Errors assume that the covariance matrix of the errors is correctly specified.\n",
      "Covariance between instrument and endogenous variable : 0.343\n"
     ]
    }
   ],
   "source": [
    "# Define the variables\n",
    "y = fish['lavgprc']  # Dependent variable\n",
    "X = fish[['wave2', 'mon', 'tues', 'wed', 'thurs', 't']]  # Independent variables\n",
    "\n",
    "# Add a constant term for the intercept\n",
    "X = sm.add_constant(X)\n",
    "\n",
    "# Perform the first stage regression\n",
    "first_stage_wave2 = sm.OLS(y, X).fit()\n",
    "\n",
    "# Compute the covariance between the instrument and its endogenous variable\n",
    "covariance_wave2 = np.cov(fish['wave2'], fish['lavgprc'])[0,1]\n",
    "\n",
    "# Display the regression results\n",
    "print(first_stage_wave2.summary())\n",
    "print(f\"Covariance between instrument and endogenous variable : {covariance_wave2:.3f}\")"
   ],
   "metadata": {
    "collapsed": false,
    "ExecuteTime": {
     "end_time": "2023-11-27T21:57:44.149402Z",
     "start_time": "2023-11-27T21:57:43.969516Z"
    }
   }
  },
  {
   "cell_type": "markdown",
   "source": [
    "***Answer:*** We choose here to work only with one instrument variable `wave2`. Then, the rull of thumb tell us that we need to check that the t-statistic is larger than 3.16 which is the case here."
   ],
   "metadata": {
    "collapsed": false
   }
  },
  {
   "cell_type": "markdown",
   "source": [
    "### j)"
   ],
   "metadata": {
    "collapsed": false
   }
  },
  {
   "cell_type": "code",
   "execution_count": 16,
   "outputs": [
    {
     "name": "stdout",
     "output_type": "stream",
     "text": [
      "                            OLS Regression Results                            \n",
      "==============================================================================\n",
      "Dep. Variable:                ltotqty   R-squared:                       0.189\n",
      "Model:                            OLS   Adj. R-squared:                  0.135\n",
      "Method:                 Least Squares   F-statistic:                     3.498\n",
      "Date:                Mon, 27 Nov 2023   Prob (F-statistic):            0.00372\n",
      "Time:                        22:57:43   Log-Likelihood:                -100.94\n",
      "No. Observations:                  97   AIC:                             215.9\n",
      "Df Residuals:                      90   BIC:                             233.9\n",
      "Df Model:                           6                                         \n",
      "Covariance Type:            nonrobust                                         \n",
      "==============================================================================\n",
      "                 coef    std err          t      P>|t|      [0.025      0.975]\n",
      "------------------------------------------------------------------------------\n",
      "const          8.9487      0.336     26.669      0.000       8.282       9.615\n",
      "wave2         -0.0987      0.043     -2.295      0.024      -0.184      -0.013\n",
      "mon           -0.2867      0.232     -1.237      0.219      -0.747       0.174\n",
      "tues          -0.6942      0.228     -3.046      0.003      -1.147      -0.241\n",
      "wed           -0.5990      0.226     -2.654      0.009      -1.047      -0.151\n",
      "thurs         -0.0252      0.226     -0.112      0.911      -0.474       0.423\n",
      "t             -0.0009      0.003     -0.322      0.749      -0.006       0.005\n",
      "==============================================================================\n",
      "Omnibus:                       21.691   Durbin-Watson:                   1.625\n",
      "Prob(Omnibus):                  0.000   Jarque-Bera (JB):               40.435\n",
      "Skew:                          -0.881   Prob(JB):                     1.66e-09\n",
      "Kurtosis:                       5.627   Cond. No.                         330.\n",
      "==============================================================================\n",
      "\n",
      "Notes:\n",
      "[1] Standard Errors assume that the covariance matrix of the errors is correctly specified.\n",
      "==============================================================================\n",
      "Instrumental Variable estimator for log(price) = -0.96035\n",
      "Instrument Variable variance for log(price) = 0.53653\n",
      "Instrument Variable std for log(price) = 0.73248\n"
     ]
    }
   ],
   "source": [
    "# Define the variables\n",
    "y = fish['ltotqty']  # Dependent variable\n",
    "X = fish[['wave2', 'mon', 'tues', 'wed', 'thurs', 't']]  # Independent variables\n",
    "\n",
    "# Add a constant term for the intercept\n",
    "X = sm.add_constant(X)\n",
    "\n",
    "# Perform the reduced form regression\n",
    "reduced_form_wave2 = sm.OLS(y, X).fit()\n",
    "\n",
    "# Compute new estimator and std\n",
    "lavgprc_iv_estimator_wave2 = reduced_form_wave2.params.wave2/first_stage_wave2.params.wave2\n",
    "variance_lavgprc_wave2 = model.bse.lavgprc\n",
    "variance_lavgprc_iv_wave2 = (1/covariance_wave2)*variance_lavgprc_wave2  #std\n",
    "\n",
    "# Display the regression results\n",
    "print(reduced_form_wave2.summary())\n",
    "print(\"==============================================================================\")\n",
    "print(f\"Instrumental Variable estimator for log(price) = {lavgprc_iv_estimator_wave2:.5f}\")\n",
    "print(f\"Instrument Variable variance for log(price) = {variance_lavgprc_iv_wave2:.5f}\")\n",
    "print(f\"Instrument Variable std for log(price) = {variance_lavgprc_iv_wave2**(1/2):.5f}\")"
   ],
   "metadata": {
    "collapsed": false,
    "ExecuteTime": {
     "end_time": "2023-11-27T21:57:44.149896Z",
     "start_time": "2023-11-27T21:57:43.992329Z"
    }
   }
  },
  {
   "cell_type": "markdown",
   "source": [
    "And now let's compute all this with a well known package [linearmodels](https://bashtage.github.io/linearmodels/iv/iv/linearmodels.iv.model.IV2SLS.html#linearmodels.iv.model.IV2SLS)."
   ],
   "metadata": {
    "collapsed": false
   }
  },
  {
   "cell_type": "code",
   "execution_count": 17,
   "outputs": [
    {
     "name": "stdout",
     "output_type": "stream",
     "text": [
      "Parameter: -0.9603469887077409\n",
      "SE: 0.4395354926589175\n",
      "95 CI: [-1.82183655 -0.09885742]\n",
      "T-statistics: -2.1849134023244323\n",
      "P-value: 0.028895196647325205\n"
     ]
    }
   ],
   "source": [
    "# Perform the regression using 2SLS approach\n",
    "formula = \"ltotqty ~ 1 + C(mon) + C(tues) + C(wed) + C(thurs) + t + [lavgprc ~ wave2]\"\n",
    "iv_2sls_wave2 = IV2SLS.from_formula(formula=formula, data=fish).fit()\n",
    "\n",
    "# Print the results\n",
    "param = iv_2sls_wave2.params[\"lavgprc\"]\n",
    "se = iv_2sls_wave2.std_errors[\"lavgprc\"]\n",
    "t_stat = iv_2sls_wave2.tstats[\"lavgprc\"]\n",
    "p_val = iv_2sls_wave2.pvalues[\"lavgprc\"]\n",
    "print(f\"Parameter: {param}\")\n",
    "print(f\"SE: {se}\")\n",
    "print(f\"95 CI: {(-1.96*se,1.96*se) + param}\")\n",
    "print(f\"T-statistics: {t_stat}\")\n",
    "print(f\"P-value: {p_val}\")"
   ],
   "metadata": {
    "collapsed": false,
    "ExecuteTime": {
     "end_time": "2023-11-27T21:57:44.151706Z",
     "start_time": "2023-11-27T21:57:44.006300Z"
    }
   }
  },
  {
   "cell_type": "markdown",
   "source": [
    "***Answer:*** We performed the reduced form and first stage regression. Then we retrieve the IV estimator $\\beta_{2,IV}$ by dividing the estimator of the reduced form by the first stage estimator (c.f. Ch5a, slide 36). We retrieve the standard error of the estimator using lecture formula (c.f. Ch5a, slide 23), but not precise then we used the estimated one from the [linearmodel](https://bashtage.github.io/linearmodels/iv/iv/linearmodels.iv.model.IV2SLS.html#linearmodels.iv.model.IV2SLS) package.\n",
    "\n",
    "The OLS performed without instrument variable (part g) of assignment gave us an estimator $\\beta_{2}=-0.5489$ that can be compared to the smaller (or larger in magnitude) $\\beta_{2,IV}=-0.9604$. This difference can be explained by :\n",
    "- Measurement error on `log(price)` that would attenuate effect of the variable.\n",
    "- Exclusion restriction may not be satisfied.\n",
    "\n",
    "Second, we compare the standard errors of both estimator. Estimator of OLS have a standard error of $0.184$ versus standard error of IV estimator of $0.439$. Then, IV estimator have larger standard error. Then, it is less precise than OLS estimator (c.f. Ch5a slide 23)."
   ],
   "metadata": {
    "collapsed": false
   }
  },
  {
   "cell_type": "markdown",
   "source": [
    "### k)\n",
    "\n",
    "Begin with the reduce form regression."
   ],
   "metadata": {
    "collapsed": false
   }
  },
  {
   "cell_type": "code",
   "execution_count": 18,
   "outputs": [
    {
     "name": "stdout",
     "output_type": "stream",
     "text": [
      "                            OLS Regression Results                            \n",
      "==============================================================================\n",
      "Dep. Variable:                ltotqty   R-squared:                       0.209\n",
      "Model:                            OLS   Adj. R-squared:                  0.156\n",
      "Method:                 Least Squares   F-statistic:                     3.955\n",
      "Date:                Mon, 27 Nov 2023   Prob (F-statistic):            0.00148\n",
      "Time:                        22:57:44   Log-Likelihood:                -99.757\n",
      "No. Observations:                  97   AIC:                             213.5\n",
      "Df Residuals:                      90   BIC:                             231.5\n",
      "Df Model:                           6                                         \n",
      "Covariance Type:            nonrobust                                         \n",
      "==============================================================================\n",
      "                 coef    std err          t      P>|t|      [0.025      0.975]\n",
      "------------------------------------------------------------------------------\n",
      "const          9.0676      0.333     27.250      0.000       8.406       9.729\n",
      "speed3        -0.0327      0.012     -2.760      0.007      -0.056      -0.009\n",
      "mon           -0.2704      0.229     -1.180      0.241      -0.726       0.185\n",
      "tues          -0.5278      0.232     -2.279      0.025      -0.988      -0.068\n",
      "wed           -0.4796      0.224     -2.142      0.035      -0.924      -0.035\n",
      "thurs          0.0036      0.222      0.016      0.987      -0.438       0.445\n",
      "t             -0.0009      0.003     -0.354      0.724      -0.006       0.004\n",
      "==============================================================================\n",
      "Omnibus:                       21.069   Durbin-Watson:                   1.711\n",
      "Prob(Omnibus):                  0.000   Jarque-Bera (JB):               40.495\n",
      "Skew:                          -0.840   Prob(JB):                     1.61e-09\n",
      "Kurtosis:                       5.683   Cond. No.                         330.\n",
      "==============================================================================\n",
      "\n",
      "Notes:\n",
      "[1] Standard Errors assume that the covariance matrix of the errors is correctly specified.\n"
     ]
    }
   ],
   "source": [
    "# Define the variables\n",
    "y = fish['ltotqty']  # Dependent variable\n",
    "X = fish[['speed3', 'mon', 'tues', 'wed', 'thurs', 't']]  # Independent variables\n",
    "\n",
    "# Add a constant term for the intercept\n",
    "X = sm.add_constant(X)\n",
    "\n",
    "# Perform the reduced form regression\n",
    "reduced_form_speed3 = sm.OLS(y, X).fit()\n",
    "\n",
    "# Display the regression results\n",
    "print(reduced_form_speed3.summary())"
   ],
   "metadata": {
    "collapsed": false,
    "ExecuteTime": {
     "end_time": "2023-11-27T21:57:44.227604Z",
     "start_time": "2023-11-27T21:57:44.044042Z"
    }
   }
  },
  {
   "cell_type": "markdown",
   "source": [
    "Then, compute the first stage regression."
   ],
   "metadata": {
    "collapsed": false
   }
  },
  {
   "cell_type": "code",
   "execution_count": 19,
   "outputs": [
    {
     "name": "stdout",
     "output_type": "stream",
     "text": [
      "                            OLS Regression Results                            \n",
      "==============================================================================\n",
      "Dep. Variable:                ltotqty   R-squared:                       0.209\n",
      "Model:                            OLS   Adj. R-squared:                  0.156\n",
      "Method:                 Least Squares   F-statistic:                     3.955\n",
      "Date:                Mon, 27 Nov 2023   Prob (F-statistic):            0.00148\n",
      "Time:                        22:57:44   Log-Likelihood:                -99.757\n",
      "No. Observations:                  97   AIC:                             213.5\n",
      "Df Residuals:                      90   BIC:                             231.5\n",
      "Df Model:                           6                                         \n",
      "Covariance Type:            nonrobust                                         \n",
      "==============================================================================\n",
      "                 coef    std err          t      P>|t|      [0.025      0.975]\n",
      "------------------------------------------------------------------------------\n",
      "const          9.0676      0.333     27.250      0.000       8.406       9.729\n",
      "speed3        -0.0327      0.012     -2.760      0.007      -0.056      -0.009\n",
      "mon           -0.2704      0.229     -1.180      0.241      -0.726       0.185\n",
      "tues          -0.5278      0.232     -2.279      0.025      -0.988      -0.068\n",
      "wed           -0.4796      0.224     -2.142      0.035      -0.924      -0.035\n",
      "thurs          0.0036      0.222      0.016      0.987      -0.438       0.445\n",
      "t             -0.0009      0.003     -0.354      0.724      -0.006       0.004\n",
      "==============================================================================\n",
      "Omnibus:                       21.069   Durbin-Watson:                   1.711\n",
      "Prob(Omnibus):                  0.000   Jarque-Bera (JB):               40.495\n",
      "Skew:                          -0.840   Prob(JB):                     1.61e-09\n",
      "Kurtosis:                       5.683   Cond. No.                         330.\n",
      "==============================================================================\n",
      "\n",
      "Notes:\n",
      "[1] Standard Errors assume that the covariance matrix of the errors is correctly specified.\n",
      "==============================================================================\n",
      "Instrumental Variable estimator for log(price) = -1.95985\n",
      "Instrument Variable variance for log(price) = 0.24376\n",
      "Instrument Variable std for log(price) = 0.49372\n"
     ]
    }
   ],
   "source": [
    "# Define the variables\n",
    "y = fish['lavgprc']  # Dependent variable\n",
    "X = fish[['speed3', 'mon', 'tues', 'wed', 'thurs', 't']]  # Independent variables\n",
    "\n",
    "# Add a constant term for the intercept\n",
    "X = sm.add_constant(X)\n",
    "\n",
    "# Perform the first stage regression\n",
    "first_stage_speed3 = sm.OLS(y, X).fit()\n",
    "\n",
    "# Compute new estimator and std\n",
    "lavgprc_iv_estimator_speed3 = reduced_form_speed3.params.speed3/first_stage_speed3.params.speed3  #estimator\n",
    "variance_lavgprc_speed3 = model.bse.lavgprc\n",
    "covariance_speed3 = np.cov(fish['speed3'], fish['lavgprc'])[0,1]  #covariance\n",
    "variance_lavgprc_iv_speed3 = (1/covariance_speed3)*variance_lavgprc_speed3  #std\n",
    "\n",
    "# Display the regression results\n",
    "print(reduced_form_speed3.summary())\n",
    "print(\"==============================================================================\")\n",
    "print(f\"Instrumental Variable estimator for log(price) = {lavgprc_iv_estimator_speed3:.5f}\")\n",
    "print(f\"Instrument Variable variance for log(price) = {variance_lavgprc_iv_speed3:.5f}\")\n",
    "print(f\"Instrument Variable std for log(price) = {variance_lavgprc_iv_speed3**(1/2):.5f}\")"
   ],
   "metadata": {
    "collapsed": false,
    "ExecuteTime": {
     "end_time": "2023-11-27T21:57:44.228793Z",
     "start_time": "2023-11-27T21:57:44.073569Z"
    }
   }
  },
  {
   "cell_type": "markdown",
   "source": [
    "Now, let's validate the result with the linearmodel package."
   ],
   "metadata": {
    "collapsed": false
   }
  },
  {
   "cell_type": "code",
   "execution_count": 20,
   "outputs": [
    {
     "data": {
      "text/plain": "<IPython.core.display.HTML object>",
      "text/html": "<table class=\"simpletable\">\n<caption>First Stage Estimation Results</caption>\n<tr>\n               <td></td>                <th>lavgprc</th>  \n</tr>\n<tr>\n  <th>R-squared</th>                    <td>0.1478</td>   \n</tr>\n<tr>\n  <th>Partial R-squared</th>            <td>0.0681</td>   \n</tr>\n<tr>\n  <th>Shea's R-squared</th>             <td>0.0681</td>   \n</tr>\n<tr>\n  <th>Partial F-statistic</th>          <td>7.6118</td>   \n</tr>\n<tr>\n  <th>P-value (Partial F-stat)</th>     <td>0.0058</td>   \n</tr>\n<tr>\n  <th>Partial F-stat Distn</th>         <td>chi2(1)</td>  \n</tr>\n<tr>\n  <th>==========================</th> <td>===========</td>\n</tr>\n<tr>\n  <th>Intercept</th>                    <td>-0.4436</td>  \n</tr>\n<tr>\n  <th></th>                            <td>(-2.5420)</td> \n</tr>\n<tr>\n  <th>C(mon)[T.1]</th>                  <td>-0.0313</td>  \n</tr>\n<tr>\n  <th></th>                            <td>(-0.2509)</td> \n</tr>\n<tr>\n  <th>C(tues)[T.1]</th>                 <td>-0.0859</td>  \n</tr>\n<tr>\n  <th></th>                            <td>(-0.6823)</td> \n</tr>\n<tr>\n  <th>C(wed)[T.1]</th>                  <td>-0.0013</td>  \n</tr>\n<tr>\n  <th></th>                            <td>(-0.0108)</td> \n</tr>\n<tr>\n  <th>C(thurs)[T.1]</th>                <td>0.0982</td>   \n</tr>\n<tr>\n  <th></th>                            <td>(0.8099)</td>  \n</tr>\n<tr>\n  <th>t</th>                            <td>-0.0030</td>  \n</tr>\n<tr>\n  <th></th>                            <td>(-2.1743)</td> \n</tr>\n<tr>\n  <th>speed3</th>                       <td>0.0167</td>   \n</tr>\n<tr>\n  <th></th>                            <td>(2.7589)</td>  \n</tr>\n</table><br/><br/>T-stats reported in parentheses<br/>T-stats use same covariance type as original model"
     },
     "metadata": {},
     "output_type": "display_data"
    },
    {
     "data": {
      "text/plain": "<IPython.core.display.HTML object>",
      "text/html": "<table class=\"simpletable\">\n<caption>IV-2SLS Estimation Summary</caption>\n<tr>\n  <th>Dep. Variable:</th>         <td>ltotqty</td>     <th>  R-squared:         </th> <td>-0.2908</td>\n</tr>\n<tr>\n  <th>Estimator:</th>             <td>IV-2SLS</td>     <th>  Adj. R-squared:    </th> <td>-0.3769</td>\n</tr>\n<tr>\n  <th>No. Observations:</th>        <td>97</td>        <th>  F-statistic:       </th> <td>13.915</td> \n</tr>\n<tr>\n  <th>Date:</th>             <td>Mon, Nov 27 2023</td> <th>  P-value (F-stat)   </th> <td>0.0306</td> \n</tr>\n<tr>\n  <th>Time:</th>                 <td>22:57:44</td>     <th>  Distribution:      </th> <td>chi2(6)</td>\n</tr>\n<tr>\n  <th>Cov. Estimator:</th>        <td>robust</td>      <th>                     </th>    <td></td>    \n</tr>\n<tr>\n  <th></th>                          <td></td>         <th>                     </th>    <td></td>    \n</tr>\n</table>\n<table class=\"simpletable\">\n<caption>Parameter Estimates</caption>\n<tr>\n        <td></td>        <th>Parameter</th> <th>Std. Err.</th> <th>T-stat</th>  <th>P-value</th> <th>Lower CI</th> <th>Upper CI</th>\n</tr>\n<tr>\n  <th>Intercept</th>      <td>8.1981</td>    <td>0.2362</td>   <td>34.711</td>  <td>0.0000</td>   <td>7.7352</td>   <td>8.6610</td> \n</tr>\n<tr>\n  <th>C(mon)[T.1]</th>    <td>-0.3318</td>   <td>0.2806</td>   <td>-1.1824</td> <td>0.2370</td>   <td>-0.8817</td>  <td>0.2181</td> \n</tr>\n<tr>\n  <th>C(tues)[T.1]</th>   <td>-0.6961</td>   <td>0.2709</td>   <td>-2.5692</td> <td>0.0102</td>   <td>-1.2271</td>  <td>-0.1650</td>\n</tr>\n<tr>\n  <th>C(wed)[T.1]</th>    <td>-0.4822</td>   <td>0.2719</td>   <td>-1.7736</td> <td>0.0761</td>   <td>-1.0151</td>  <td>0.0507</td> \n</tr>\n<tr>\n  <th>C(thurs)[T.1]</th>  <td>0.1960</td>    <td>0.2589</td>   <td>0.7571</td>  <td>0.4490</td>   <td>-0.3115</td>  <td>0.7035</td> \n</tr>\n<tr>\n  <th>t</th>              <td>-0.0069</td>   <td>0.0047</td>   <td>-1.4626</td> <td>0.1436</td>   <td>-0.0161</td>  <td>0.0023</td> \n</tr>\n<tr>\n  <th>lavgprc</th>        <td>-1.9599</td>   <td>0.9676</td>   <td>-2.0255</td> <td>0.0428</td>   <td>-3.8563</td>  <td>-0.0634</td>\n</tr>\n</table><br/><br/>Endogenous: lavgprc<br/>Instruments: speed3<br/>Robust Covariance (Heteroskedastic)<br/>Debiased: False"
     },
     "metadata": {},
     "output_type": "display_data"
    }
   ],
   "source": [
    "# Perform the regression using 2SLS approach\n",
    "formula = \"ltotqty ~ 1 + C(mon) + C(tues) + C(wed) + C(thurs) + t + [lavgprc ~ speed3]\"\n",
    "iv_2sls_speed3 = IV2SLS.from_formula(formula=formula, data=fish).fit()\n",
    "\n",
    "# Print the results\n",
    "display(HTML(iv_2sls_speed3.first_stage.summary.as_html()))\n",
    "display(HTML(iv_2sls_speed3.summary.as_html()))"
   ],
   "metadata": {
    "collapsed": false,
    "ExecuteTime": {
     "end_time": "2023-11-27T21:57:44.414704Z",
     "start_time": "2023-11-27T21:57:44.106335Z"
    }
   }
  },
  {
   "cell_type": "markdown",
   "source": [
    "***Answer:*** Since the magnitude of the t-statistic of `speed3` on the `first_stage_speed3` model is $2.760$, we conclude that this instrumental variable is **weak**."
   ],
   "metadata": {
    "collapsed": false
   }
  },
  {
   "cell_type": "markdown",
   "source": [
    "### l)\n",
    "\n",
    "First, perform the 2SLS procedure (doc used to perform regression [here](https://matheusfacure.github.io/python-causality-handbook/08-Instrumental-Variables.html)) and display the results."
   ],
   "metadata": {
    "collapsed": false
   }
  },
  {
   "cell_type": "code",
   "execution_count": 21,
   "outputs": [
    {
     "data": {
      "text/plain": "<IPython.core.display.HTML object>",
      "text/html": "<table class=\"simpletable\">\n<caption>IV-2SLS Estimation Summary</caption>\n<tr>\n  <th>Dep. Variable:</th>         <td>ltotqty</td>     <th>  R-squared:         </th> <td>0.1331</td> \n</tr>\n<tr>\n  <th>Estimator:</th>             <td>IV-2SLS</td>     <th>  Adj. R-squared:    </th> <td>0.0753</td> \n</tr>\n<tr>\n  <th>No. Observations:</th>        <td>97</td>        <th>  F-statistic:       </th> <td>24.627</td> \n</tr>\n<tr>\n  <th>Date:</th>             <td>Mon, Nov 27 2023</td> <th>  P-value (F-stat)   </th> <td>0.0004</td> \n</tr>\n<tr>\n  <th>Time:</th>                 <td>22:57:44</td>     <th>  Distribution:      </th> <td>chi2(6)</td>\n</tr>\n<tr>\n  <th>Cov. Estimator:</th>        <td>robust</td>      <th>                     </th>    <td></td>    \n</tr>\n<tr>\n  <th></th>                          <td></td>         <th>                     </th>    <td></td>    \n</tr>\n</table>\n<table class=\"simpletable\">\n<caption>Parameter Estimates</caption>\n<tr>\n        <td></td>        <th>Parameter</th> <th>Std. Err.</th> <th>T-stat</th>  <th>P-value</th> <th>Lower CI</th> <th>Upper CI</th>\n</tr>\n<tr>\n  <th>Intercept</th>      <td>8.2589</td>    <td>0.1843</td>   <td>44.808</td>  <td>0.0000</td>   <td>7.8976</td>   <td>8.6201</td> \n</tr>\n<tr>\n  <th>C(mon)[T.1]</th>    <td>-0.3234</td>   <td>0.2380</td>   <td>-1.3586</td> <td>0.1743</td>   <td>-0.7899</td>  <td>0.1431</td> \n</tr>\n<tr>\n  <th>C(tues)[T.1]</th>   <td>-0.6887</td>   <td>0.2103</td>   <td>-3.2749</td> <td>0.0011</td>   <td>-1.1009</td>  <td>-0.2765</td>\n</tr>\n<tr>\n  <th>C(wed)[T.1]</th>    <td>-0.5135</td>   <td>0.2223</td>   <td>-2.3106</td> <td>0.0209</td>   <td>-0.9491</td>  <td>-0.0779</td>\n</tr>\n<tr>\n  <th>C(thurs)[T.1]</th>  <td>0.1207</td>    <td>0.1852</td>   <td>0.6514</td>  <td>0.5148</td>   <td>-0.2424</td>  <td>0.4837</td> \n</tr>\n<tr>\n  <th>t</th>              <td>-0.0036</td>   <td>0.0029</td>   <td>-1.2292</td> <td>0.2190</td>   <td>-0.0092</td>  <td>0.0021</td> \n</tr>\n<tr>\n  <th>lavgprc</th>        <td>-1.1274</td>   <td>0.4462</td>   <td>-2.5267</td> <td>0.0115</td>   <td>-2.0019</td>  <td>-0.2529</td>\n</tr>\n</table><br/><br/>Endogenous: lavgprc<br/>Instruments: wave2, speed3<br/>Robust Covariance (Heteroskedastic)<br/>Debiased: False"
     },
     "metadata": {},
     "output_type": "display_data"
    }
   ],
   "source": [
    "# Perform the regression using 2SLS approach\n",
    "formula = \"ltotqty ~ 1 + C(mon) + C(tues) + C(wed) + C(thurs) + t + [lavgprc ~ wave2 + speed3]\"\n",
    "iv_2sls_both = IV2SLS.from_formula(formula=formula, data=fish).fit()\n",
    "\n",
    "# Print the results\n",
    "display(HTML(iv_2sls_both.summary.as_html()))"
   ],
   "metadata": {
    "collapsed": false,
    "ExecuteTime": {
     "end_time": "2023-11-27T21:57:44.446855Z",
     "start_time": "2023-11-27T21:57:44.212459Z"
    }
   }
  },
  {
   "cell_type": "markdown",
   "source": [
    "Then, perform an F-test on the Instrumental Variables to test whether they jointly fulfill the criterion for being sufficiently strong instruments."
   ],
   "metadata": {
    "collapsed": false
   }
  },
  {
   "cell_type": "code",
   "execution_count": 22,
   "outputs": [
    {
     "data": {
      "text/plain": "<IPython.core.display.HTML object>",
      "text/html": "<table class=\"simpletable\">\n<caption>First Stage Estimation Results</caption>\n<tr>\n               <td></td>                <th>lavgprc</th>  \n</tr>\n<tr>\n  <th>R-squared</th>                    <td>0.2856</td>   \n</tr>\n<tr>\n  <th>Partial R-squared</th>            <td>0.2189</td>   \n</tr>\n<tr>\n  <th>Shea's R-squared</th>             <td>0.2189</td>   \n</tr>\n<tr>\n  <th>Partial F-statistic</th>          <td>28.408</td>   \n</tr>\n<tr>\n  <th>P-value (Partial F-stat)</th>    <td>6.779e-07</td> \n</tr>\n<tr>\n  <th>Partial F-stat Distn</th>         <td>chi2(2)</td>  \n</tr>\n<tr>\n  <th>==========================</th> <td>===========</td>\n</tr>\n<tr>\n  <th>Intercept</th>                    <td>-0.8458</td>  \n</tr>\n<tr>\n  <th></th>                            <td>(-4.6044)</td> \n</tr>\n<tr>\n  <th>C(mon)[T.1]</th>                  <td>-0.0454</td>  \n</tr>\n<tr>\n  <th></th>                            <td>(-0.4009)</td> \n</tr>\n<tr>\n  <th>C(tues)[T.1]</th>                 <td>-0.0356</td>  \n</tr>\n<tr>\n  <th></th>                            <td>(-0.3023)</td> \n</tr>\n<tr>\n  <th>C(wed)[T.1]</th>                  <td>0.0574</td>   \n</tr>\n<tr>\n  <th></th>                            <td>(0.5239)</td>  \n</tr>\n<tr>\n  <th>C(thurs)[T.1]</th>                <td>0.1360</td>   \n</tr>\n<tr>\n  <th></th>                            <td>(1.3238)</td>  \n</tr>\n<tr>\n  <th>t</th>                            <td>-0.0018</td>  \n</tr>\n<tr>\n  <th></th>                            <td>(-1.4400)</td> \n</tr>\n<tr>\n  <th>wave2</th>                        <td>0.0932</td>   \n</tr>\n<tr>\n  <th></th>                            <td>(4.8805)</td>  \n</tr>\n<tr>\n  <th>speed3</th>                       <td>0.0090</td>   \n</tr>\n<tr>\n  <th></th>                            <td>(1.5690)</td>  \n</tr>\n</table><br/><br/>T-stats reported in parentheses<br/>T-stats use same covariance type as original model"
     },
     "metadata": {},
     "output_type": "display_data"
    },
    {
     "name": "stdout",
     "output_type": "stream",
     "text": [
      "F-statistic by hand : 6.305\n",
      "p-value by hand : 0.003\n"
     ]
    }
   ],
   "source": [
    "########## Via package function ##########\n",
    "display(HTML(iv_2sls_both.first_stage.summary.as_html()))\n",
    "\n",
    "#TODO: Understand why values are not similar\n",
    "\n",
    "########## Compute the test by hand ##########\n",
    "# Define the variables\n",
    "y = fish['lavgprc']  # Dependent variable\n",
    "X = fish[['wave2', 'speed3', 'mon', 'tues', 'wed', 'thurs', 't']]  # Independent variables\n",
    "X_restricted = fish[['mon', 'tues', 'wed', 'thurs', 't']]  # Independent variables of restricted\n",
    "\n",
    "# Add a constant term for the intercept\n",
    "X = sm.add_constant(X)\n",
    "X_restricted = sm.add_constant(X_restricted)\n",
    "\n",
    "# Perform the first stage regression\n",
    "first_stage_both = sm.OLS(y, X).fit()\n",
    "first_stage_both_restricted = sm.OLS(y, X_restricted).fit()\n",
    "\n",
    "# Retrieve the sum of square residuals of both models\n",
    "ssr = (first_stage_both.resid**2).sum()\n",
    "ssr_restricted = (first_stage_both_restricted.resid**2).sum()\n",
    "\n",
    "# Compute the F-statistic\n",
    "f_stat = first_stage_both.compare_f_test(first_stage_both_restricted)\n",
    "\n",
    "# Print the results\n",
    "print(f\"F-statistic by hand : {f_test[0]:.3f}\")\n",
    "print(f\"p-value by hand : {f_test[1]:.3f}\")"
   ],
   "metadata": {
    "collapsed": false,
    "ExecuteTime": {
     "end_time": "2023-11-27T21:57:44.448507Z",
     "start_time": "2023-11-27T21:57:44.255312Z"
    }
   }
  },
  {
   "cell_type": "markdown",
   "source": [
    "***Answer:*** Since the **F-statistic** is larger than **10** we can state that instrument are jointly sufficiently strong."
   ],
   "metadata": {
    "collapsed": false
   }
  },
  {
   "cell_type": "markdown",
   "source": [
    "### m)"
   ],
   "metadata": {
    "collapsed": false
   }
  },
  {
   "cell_type": "code",
   "execution_count": 23,
   "outputs": [
    {
     "data": {
      "text/plain": "Sargan's test of overidentification\nH0: The model is not overidentified.\nStatistic: 1.9642\nP-value: 0.1611\nDistributed: chi2(1)\nWaldTestStatistic, id: 0x15ce78f20"
     },
     "execution_count": 23,
     "metadata": {},
     "output_type": "execute_result"
    }
   ],
   "source": [
    "iv_2sls_both.sargan"
   ],
   "metadata": {
    "collapsed": false,
    "ExecuteTime": {
     "end_time": "2023-11-27T21:57:44.448796Z",
     "start_time": "2023-11-27T21:57:44.323362Z"
    }
   }
  },
  {
   "cell_type": "markdown",
   "source": [
    "### n)"
   ],
   "metadata": {
    "collapsed": false
   }
  },
  {
   "cell_type": "code",
   "execution_count": 24,
   "outputs": [
    {
     "data": {
      "text/plain": "Durbin test of exogeneity\nH0: Variables lavgprc are exogenous\nStatistic: 3.4826\nP-value: 0.0620\nDistributed: chi2(1)\nWaldTestStatistic, id: 0x15ad49670"
     },
     "execution_count": 24,
     "metadata": {},
     "output_type": "execute_result"
    }
   ],
   "source": [
    "iv_2sls_both.durbin(variables=[\"lavgprc\"])"
   ],
   "metadata": {
    "collapsed": false,
    "ExecuteTime": {
     "end_time": "2023-11-27T21:57:44.449089Z",
     "start_time": "2023-11-27T21:57:44.355955Z"
    }
   }
  }
 ],
 "metadata": {
  "kernelspec": {
   "display_name": "Python 3",
   "language": "python",
   "name": "python3"
  },
  "language_info": {
   "codemirror_mode": {
    "name": "ipython",
    "version": 2
   },
   "file_extension": ".py",
   "mimetype": "text/x-python",
   "name": "python",
   "nbconvert_exporter": "python",
   "pygments_lexer": "ipython2",
   "version": "2.7.6"
  }
 },
 "nbformat": 4,
 "nbformat_minor": 0
}
