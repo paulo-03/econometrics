{
 "cells": [
  {
   "cell_type": "markdown",
   "source": [
    "# Assignment 2 - Fish Prices\n",
    "\n",
    "---\n",
    "This notebook shows all the step used to answer questions of assignment 2 from [Econometrics](https://edu.epfl.ch/coursebook/fr/econometrics-FIN-403) courses.\n",
    "\n",
    "**Author**: [Paulo Ribeiro](https://people.epfl.ch/paulo.ribeirodecarvalho)\n",
    "\n",
    "---"
   ],
   "metadata": {
    "collapsed": false
   }
  },
  {
   "cell_type": "markdown",
   "source": [
    "## Import Libraries"
   ],
   "metadata": {
    "collapsed": false
   }
  },
  {
   "cell_type": "code",
   "execution_count": 1,
   "outputs": [],
   "source": [
    "import matplotlib.pyplot as plt\n",
    "import numpy as np\n",
    "import pandas as pd\n",
    "import statsmodels.api as sm"
   ],
   "metadata": {
    "collapsed": false,
    "ExecuteTime": {
     "end_time": "2023-11-21T18:52:59.955429Z",
     "start_time": "2023-11-21T18:52:58.032571Z"
    }
   }
  },
  {
   "cell_type": "markdown",
   "source": [
    "## Load data"
   ],
   "metadata": {
    "collapsed": false
   }
  },
  {
   "cell_type": "code",
   "execution_count": 2,
   "outputs": [
    {
     "data": {
      "text/plain": "      avgprc   lavgprc  totqty   ltotqty  speed2  speed3  wave2  wave3  mon  \\\n0   0.700286 -0.356266    4080  8.313852      15      20    7.5    9.0    1   \n1   1.005336  0.005322    3466  8.150757      10      20    5.0    7.5    0   \n2   1.393918  0.332118    2295  7.738488      10      20    6.0    4.0    0   \n3   1.775487  0.574075    1870  7.533694      15      20    6.0    5.0    0   \n4   0.826799 -0.190194    6885  8.837100      10      20    3.5    3.5    1   \n..       ...       ...     ...       ...     ...     ...    ...    ...  ...   \n92  0.429408 -0.845347    3450  8.146130      15      15    4.5    3.5    1   \n93  0.907724 -0.096815    1230  7.114770      12      25    4.5    4.0    0   \n94  1.238571  0.213958    1250  7.130899      12      25    5.0    4.5    0   \n95  1.250000  0.223144    3980  8.289037      15      18    6.0    4.5    0   \n96  1.725758  0.545667    3780  8.237479      15      20    9.0    5.0    0   \n\n    tues  wed  thurs   t  \n0      0    0      0   1  \n1      0    1      0   2  \n2      0    0      1   3  \n3      0    0      0   4  \n4      0    0      0   5  \n..   ...  ...    ...  ..  \n92     0    0      0  93  \n93     1    0      0  94  \n94     0    1      0  95  \n95     0    0      1  96  \n96     0    0      0  97  \n\n[97 rows x 13 columns]",
      "text/html": "<div>\n<style scoped>\n    .dataframe tbody tr th:only-of-type {\n        vertical-align: middle;\n    }\n\n    .dataframe tbody tr th {\n        vertical-align: top;\n    }\n\n    .dataframe thead th {\n        text-align: right;\n    }\n</style>\n<table border=\"1\" class=\"dataframe\">\n  <thead>\n    <tr style=\"text-align: right;\">\n      <th></th>\n      <th>avgprc</th>\n      <th>lavgprc</th>\n      <th>totqty</th>\n      <th>ltotqty</th>\n      <th>speed2</th>\n      <th>speed3</th>\n      <th>wave2</th>\n      <th>wave3</th>\n      <th>mon</th>\n      <th>tues</th>\n      <th>wed</th>\n      <th>thurs</th>\n      <th>t</th>\n    </tr>\n  </thead>\n  <tbody>\n    <tr>\n      <th>0</th>\n      <td>0.700286</td>\n      <td>-0.356266</td>\n      <td>4080</td>\n      <td>8.313852</td>\n      <td>15</td>\n      <td>20</td>\n      <td>7.5</td>\n      <td>9.0</td>\n      <td>1</td>\n      <td>0</td>\n      <td>0</td>\n      <td>0</td>\n      <td>1</td>\n    </tr>\n    <tr>\n      <th>1</th>\n      <td>1.005336</td>\n      <td>0.005322</td>\n      <td>3466</td>\n      <td>8.150757</td>\n      <td>10</td>\n      <td>20</td>\n      <td>5.0</td>\n      <td>7.5</td>\n      <td>0</td>\n      <td>0</td>\n      <td>1</td>\n      <td>0</td>\n      <td>2</td>\n    </tr>\n    <tr>\n      <th>2</th>\n      <td>1.393918</td>\n      <td>0.332118</td>\n      <td>2295</td>\n      <td>7.738488</td>\n      <td>10</td>\n      <td>20</td>\n      <td>6.0</td>\n      <td>4.0</td>\n      <td>0</td>\n      <td>0</td>\n      <td>0</td>\n      <td>1</td>\n      <td>3</td>\n    </tr>\n    <tr>\n      <th>3</th>\n      <td>1.775487</td>\n      <td>0.574075</td>\n      <td>1870</td>\n      <td>7.533694</td>\n      <td>15</td>\n      <td>20</td>\n      <td>6.0</td>\n      <td>5.0</td>\n      <td>0</td>\n      <td>0</td>\n      <td>0</td>\n      <td>0</td>\n      <td>4</td>\n    </tr>\n    <tr>\n      <th>4</th>\n      <td>0.826799</td>\n      <td>-0.190194</td>\n      <td>6885</td>\n      <td>8.837100</td>\n      <td>10</td>\n      <td>20</td>\n      <td>3.5</td>\n      <td>3.5</td>\n      <td>1</td>\n      <td>0</td>\n      <td>0</td>\n      <td>0</td>\n      <td>5</td>\n    </tr>\n    <tr>\n      <th>...</th>\n      <td>...</td>\n      <td>...</td>\n      <td>...</td>\n      <td>...</td>\n      <td>...</td>\n      <td>...</td>\n      <td>...</td>\n      <td>...</td>\n      <td>...</td>\n      <td>...</td>\n      <td>...</td>\n      <td>...</td>\n      <td>...</td>\n    </tr>\n    <tr>\n      <th>92</th>\n      <td>0.429408</td>\n      <td>-0.845347</td>\n      <td>3450</td>\n      <td>8.146130</td>\n      <td>15</td>\n      <td>15</td>\n      <td>4.5</td>\n      <td>3.5</td>\n      <td>1</td>\n      <td>0</td>\n      <td>0</td>\n      <td>0</td>\n      <td>93</td>\n    </tr>\n    <tr>\n      <th>93</th>\n      <td>0.907724</td>\n      <td>-0.096815</td>\n      <td>1230</td>\n      <td>7.114770</td>\n      <td>12</td>\n      <td>25</td>\n      <td>4.5</td>\n      <td>4.0</td>\n      <td>0</td>\n      <td>1</td>\n      <td>0</td>\n      <td>0</td>\n      <td>94</td>\n    </tr>\n    <tr>\n      <th>94</th>\n      <td>1.238571</td>\n      <td>0.213958</td>\n      <td>1250</td>\n      <td>7.130899</td>\n      <td>12</td>\n      <td>25</td>\n      <td>5.0</td>\n      <td>4.5</td>\n      <td>0</td>\n      <td>0</td>\n      <td>1</td>\n      <td>0</td>\n      <td>95</td>\n    </tr>\n    <tr>\n      <th>95</th>\n      <td>1.250000</td>\n      <td>0.223144</td>\n      <td>3980</td>\n      <td>8.289037</td>\n      <td>15</td>\n      <td>18</td>\n      <td>6.0</td>\n      <td>4.5</td>\n      <td>0</td>\n      <td>0</td>\n      <td>0</td>\n      <td>1</td>\n      <td>96</td>\n    </tr>\n    <tr>\n      <th>96</th>\n      <td>1.725758</td>\n      <td>0.545667</td>\n      <td>3780</td>\n      <td>8.237479</td>\n      <td>15</td>\n      <td>20</td>\n      <td>9.0</td>\n      <td>5.0</td>\n      <td>0</td>\n      <td>0</td>\n      <td>0</td>\n      <td>0</td>\n      <td>97</td>\n    </tr>\n  </tbody>\n</table>\n<p>97 rows × 13 columns</p>\n</div>"
     },
     "metadata": {},
     "output_type": "display_data"
    }
   ],
   "source": [
    "file_path = \"fish.csv\"\n",
    "fish = pd.read_csv(file_path)\n",
    "display(fish)"
   ],
   "metadata": {
    "collapsed": false,
    "ExecuteTime": {
     "end_time": "2023-11-21T18:52:59.992427Z",
     "start_time": "2023-11-21T18:52:59.958152Z"
    }
   }
  },
  {
   "cell_type": "markdown",
   "source": [
    "## Part 1\n",
    "\n",
    "For the first few questions, we use the variable `lavgprc` (= the log of the average price for fish) as the dependent variable."
   ],
   "metadata": {
    "collapsed": false
   }
  },
  {
   "cell_type": "markdown",
   "source": [
    "### a)"
   ],
   "metadata": {
    "collapsed": false
   }
  },
  {
   "cell_type": "code",
   "execution_count": 3,
   "outputs": [
    {
     "name": "stdout",
     "output_type": "stream",
     "text": [
      "                            OLS Regression Results                            \n",
      "==============================================================================\n",
      "Dep. Variable:                lavgprc   R-squared:                       0.085\n",
      "Model:                            OLS   Adj. R-squared:                  0.035\n",
      "Method:                 Least Squares   F-statistic:                     1.701\n",
      "Date:                Tue, 21 Nov 2023   Prob (F-statistic):              0.142\n",
      "Time:                        19:52:59   Log-Likelihood:                -45.022\n",
      "No. Observations:                  97   AIC:                             102.0\n",
      "Df Residuals:                      91   BIC:                             117.5\n",
      "Df Model:                           5                                         \n",
      "Covariance Type:            nonrobust                                         \n",
      "==============================================================================\n",
      "                 coef    std err          t      P>|t|      [0.025      0.975]\n",
      "------------------------------------------------------------------------------\n",
      "const         -0.0730      0.115     -0.633      0.528      -0.302       0.156\n",
      "mon           -0.0101      0.129     -0.078      0.938      -0.267       0.247\n",
      "tues          -0.0088      0.127     -0.069      0.945      -0.262       0.244\n",
      "wed            0.0376      0.126      0.299      0.765      -0.212       0.287\n",
      "thurs          0.0906      0.126      0.721      0.473      -0.159       0.340\n",
      "t             -0.0040      0.001     -2.763      0.007      -0.007      -0.001\n",
      "==============================================================================\n",
      "Omnibus:                        0.260   Durbin-Watson:                   0.547\n",
      "Prob(Omnibus):                  0.878   Jarque-Bera (JB):                0.435\n",
      "Skew:                          -0.069   Prob(JB):                        0.805\n",
      "Kurtosis:                       2.703   Cond. No.                         305.\n",
      "==============================================================================\n",
      "\n",
      "Notes:\n",
      "[1] Standard Errors assume that the covariance matrix of the errors is correctly specified.\n"
     ]
    }
   ],
   "source": [
    "# Define the variables\n",
    "y = fish['lavgprc']  # Dependent variable\n",
    "X = fish[['mon', 'tues', 'wed', 'thurs', 't']]  # Independent variables\n",
    "\n",
    "# Add a constant term for the intercept\n",
    "X = sm.add_constant(X)\n",
    "\n",
    "# Perform the regression\n",
    "model = sm.OLS(y, X).fit()\n",
    "\n",
    "# Display the regression results\n",
    "print(model.summary())"
   ],
   "metadata": {
    "collapsed": false,
    "ExecuteTime": {
     "end_time": "2023-11-21T18:53:00.005676Z",
     "start_time": "2023-11-21T18:52:59.985477Z"
    }
   }
  },
  {
   "cell_type": "markdown",
   "source": [
    "***Answer:*** Statistically no evidence that price varies within a week. Indeed, p-values of week-day variables are all bigger than the 5% significance level."
   ],
   "metadata": {
    "collapsed": false
   }
  },
  {
   "cell_type": "markdown",
   "source": [
    "### b)"
   ],
   "metadata": {
    "collapsed": false
   }
  },
  {
   "cell_type": "code",
   "execution_count": 4,
   "outputs": [
    {
     "name": "stdout",
     "output_type": "stream",
     "text": [
      "                            OLS Regression Results                            \n",
      "==============================================================================\n",
      "Dep. Variable:                lavgprc   R-squared:                       0.309\n",
      "Model:                            OLS   Adj. R-squared:                  0.255\n",
      "Method:                 Least Squares   F-statistic:                     5.699\n",
      "Date:                Tue, 21 Nov 2023   Prob (F-statistic):           1.84e-05\n",
      "Time:                        19:53:00   Log-Likelihood:                -31.396\n",
      "No. Observations:                  97   AIC:                             78.79\n",
      "Df Residuals:                      89   BIC:                             99.39\n",
      "Df Model:                           7                                         \n",
      "Covariance Type:            nonrobust                                         \n",
      "==============================================================================\n",
      "                 coef    std err          t      P>|t|      [0.025      0.975]\n",
      "------------------------------------------------------------------------------\n",
      "const         -0.9203      0.190     -4.848      0.000      -1.297      -0.543\n",
      "mon           -0.0182      0.114     -0.159      0.874      -0.245       0.208\n",
      "tues          -0.0085      0.112     -0.076      0.940      -0.231       0.214\n",
      "wed            0.0500      0.112      0.448      0.655      -0.172       0.272\n",
      "thurs          0.1225      0.111      1.104      0.272      -0.098       0.343\n",
      "t             -0.0012      0.001     -0.832      0.408      -0.004       0.002\n",
      "wave2          0.0909      0.022      4.178      0.000       0.048       0.134\n",
      "wave3          0.0474      0.021      2.276      0.025       0.006       0.089\n",
      "==============================================================================\n",
      "Omnibus:                        8.324   Durbin-Watson:                   0.745\n",
      "Prob(Omnibus):                  0.016   Jarque-Bera (JB):                7.952\n",
      "Skew:                          -0.628   Prob(JB):                       0.0188\n",
      "Kurtosis:                       3.625   Cond. No.                         345.\n",
      "==============================================================================\n",
      "\n",
      "Notes:\n",
      "[1] Standard Errors assume that the covariance matrix of the errors is correctly specified.\n"
     ]
    }
   ],
   "source": [
    "# Define the variables\n",
    "y = fish['lavgprc']  # Dependent variable\n",
    "X = fish[['mon', 'tues', 'wed', 'thurs', 't', 'wave2', 'wave3']]  # Independent variables\n",
    "\n",
    "# Add a constant term for the intercept\n",
    "X = sm.add_constant(X)\n",
    "\n",
    "# Perform the regression\n",
    "model_with_wave = sm.OLS(y, X).fit()\n",
    "\n",
    "# Display the regression results\n",
    "print(model_with_wave.summary())"
   ],
   "metadata": {
    "collapsed": false,
    "ExecuteTime": {
     "end_time": "2023-11-21T18:53:00.092329Z",
     "start_time": "2023-11-21T18:53:00.006802Z"
    }
   }
  },
  {
   "cell_type": "code",
   "execution_count": 5,
   "outputs": [
    {
     "name": "stdout",
     "output_type": "stream",
     "text": [
      "F-statistic : 14.436\n",
      "p-value : 0.000\n"
     ]
    }
   ],
   "source": [
    "# Let's see if wave2 and wave3 are jointly significant\n",
    "f_test = model_with_wave.compare_f_test(model)\n",
    "\n",
    "# Print the results\n",
    "print(f\"F-statistic : {f_test[0]:.3f}\")\n",
    "print(f\"p-value : {f_test[1]:.3f}\")"
   ],
   "metadata": {
    "collapsed": false,
    "ExecuteTime": {
     "end_time": "2023-11-21T18:53:00.092734Z",
     "start_time": "2023-11-21T18:53:00.030446Z"
    }
   }
  },
  {
   "cell_type": "markdown",
   "source": [
    "***Answer:*** From previous results, we see that variable `wave2` and `wave3` are individually and jointly statically significant at a $5\\%$ significance level."
   ],
   "metadata": {
    "collapsed": false
   }
  },
  {
   "cell_type": "markdown",
   "source": [
    "### c)"
   ],
   "metadata": {
    "collapsed": false
   }
  },
  {
   "cell_type": "code",
   "execution_count": 6,
   "outputs": [
    {
     "name": "stdout",
     "output_type": "stream",
     "text": [
      "Model 1 (restricted), regression results for 't':\n",
      "Coefficient: -0.0040\n",
      "P-value: 0.0069\n",
      "\n",
      "Model 2 (not restricted), regression results for 't':\n",
      "Coefficient: -0.0012\n",
      "P-value: 0.4075\n"
     ]
    }
   ],
   "source": [
    "# Print the description of the regression for 't' in the restricted model\n",
    "print(f\"Model 1 (restricted), regression results for 't':\")\n",
    "print(f\"Coefficient: {model.params['t']:.4f}\")\n",
    "print(f\"P-value: {model.pvalues['t']:.4f}\\n\")\n",
    "\n",
    "# Print the description of the regression for 't' in the not restricted model\n",
    "print(f\"Model 2 (not restricted), regression results for 't':\")\n",
    "print(f\"Coefficient: {model_with_wave.params['t']:.4f}\")\n",
    "print(f\"P-value: {model_with_wave.pvalues['t']:.4f}\")"
   ],
   "metadata": {
    "collapsed": false,
    "ExecuteTime": {
     "end_time": "2023-11-21T18:53:00.104351Z",
     "start_time": "2023-11-21T18:53:00.035316Z"
    }
   }
  },
  {
   "cell_type": "markdown",
   "source": [
    "***Answer:*** Indeed, the time trend variable `t` was firstly statistically relevant and became not relevant with the addition of the `wave2` and `wave3` variables. We are observing a situation known as the Omitted Variable Bias (c.f. Ch3 slide 37)."
   ],
   "metadata": {
    "collapsed": false
   }
  },
  {
   "cell_type": "markdown",
   "source": [
    "### d)"
   ],
   "metadata": {
    "collapsed": false
   }
  },
  {
   "cell_type": "code",
   "execution_count": 7,
   "outputs": [
    {
     "data": {
      "text/plain": "<Figure size 500x300 with 1 Axes>",
      "image/png": "[encoded data removed]"
     },
     "metadata": {},
     "output_type": "display_data"
    }
   ],
   "source": [
    "# Retrieve residuals of model from b)\n",
    "residuals = model_with_wave.resid\n",
    "\n",
    "# Initialize the figure to see the evolution\n",
    "fig = plt.figure(figsize=(5,3))\n",
    "\n",
    "# Plot the residuals in function of the time variable\n",
    "plt.plot(fish['t'], residuals)\n",
    "plt.xlabel('time period')\n",
    "plt.ylabel('residuals')\n",
    "plt.title('Time Series of the Residuals')\n",
    "plt.grid()\n",
    "\n",
    "plt.show()"
   ],
   "metadata": {
    "collapsed": false,
    "ExecuteTime": {
     "end_time": "2023-11-21T18:53:00.282913Z",
     "start_time": "2023-11-21T18:53:00.041649Z"
    }
   }
  },
  {
   "cell_type": "markdown",
   "source": [
    "***Answer:*** Just by looking at the plot, we cannot really say if the residuals are serially correlated. Let's dig a bit more in it by testing for AR(1) more formally with Durbin-Watson tests (c.f. Ch.4b) slide 12). Also we could check for higher auto correlation with the Breusch-Godfrey test (c.f. Ch.4b) slide 11), but not requested by the assignment."
   ],
   "metadata": {
    "collapsed": false
   }
  },
  {
   "cell_type": "code",
   "execution_count": 8,
   "outputs": [
    {
     "name": "stdout",
     "output_type": "stream",
     "text": [
      "Durbin-Watson Statistic: 0.745\n"
     ]
    }
   ],
   "source": [
    "# Perform the Durbin-Watson test\n",
    "durbin_watson_statistic = sm.stats.stattools.durbin_watson(residuals)\n",
    "\n",
    "# Print the results of Durbin-Watson statistic\n",
    "print(f'Durbin-Watson Statistic: {durbin_watson_statistic:.3f}')"
   ],
   "metadata": {
    "collapsed": false,
    "ExecuteTime": {
     "end_time": "2023-11-21T18:53:00.287524Z",
     "start_time": "2023-11-21T18:53:00.283631Z"
    }
   }
  },
  {
   "cell_type": "markdown",
   "source": [
    "***Answer (cont'd):*** By looking at the lecture of chapter 4b) slide 13 we retrieve the approximate values of $d_L\\approx1.506$ and $d_U\\approx1.850$ (we choose $K=8\\approx9$ and $T=97\\approx100$ to retrieve these critical values). Since the statistic value of Durbin-Watson test is less than $d_U$, we reject the null stating $\\rho=0$. We can statistically be confident that it exists a positive auto correlation at a $5\\%$ significance level."
   ],
   "metadata": {
    "collapsed": false
   }
  },
  {
   "cell_type": "markdown",
   "source": [
    "### e)"
   ],
   "metadata": {
    "collapsed": false
   }
  },
  {
   "cell_type": "code",
   "execution_count": 9,
   "outputs": [
    {
     "data": {
      "text/plain": "       Coefficient  Standard Error  F-Statistic   P-value\nconst    -0.920254        0.250645    10.386667  0.000411\nmon      -0.018158        0.095637    10.386667  0.849849\ntues     -0.008533        0.107378    10.386667  0.936839\nwed       0.050041        0.094109    10.386667  0.596237\nthurs     0.122546        0.064364    10.386667  0.060149\nt        -0.001157        0.001919    10.386667  0.548031\nwave2     0.090891        0.022388    10.386667  0.000105\nwave3     0.047375        0.018676    10.386667  0.012933",
      "text/html": "<div>\n<style scoped>\n    .dataframe tbody tr th:only-of-type {\n        vertical-align: middle;\n    }\n\n    .dataframe tbody tr th {\n        vertical-align: top;\n    }\n\n    .dataframe thead th {\n        text-align: right;\n    }\n</style>\n<table border=\"1\" class=\"dataframe\">\n  <thead>\n    <tr style=\"text-align: right;\">\n      <th></th>\n      <th>Coefficient</th>\n      <th>Standard Error</th>\n      <th>F-Statistic</th>\n      <th>P-value</th>\n    </tr>\n  </thead>\n  <tbody>\n    <tr>\n      <th>const</th>\n      <td>-0.920254</td>\n      <td>0.250645</td>\n      <td>10.386667</td>\n      <td>0.000411</td>\n    </tr>\n    <tr>\n      <th>mon</th>\n      <td>-0.018158</td>\n      <td>0.095637</td>\n      <td>10.386667</td>\n      <td>0.849849</td>\n    </tr>\n    <tr>\n      <th>tues</th>\n      <td>-0.008533</td>\n      <td>0.107378</td>\n      <td>10.386667</td>\n      <td>0.936839</td>\n    </tr>\n    <tr>\n      <th>wed</th>\n      <td>0.050041</td>\n      <td>0.094109</td>\n      <td>10.386667</td>\n      <td>0.596237</td>\n    </tr>\n    <tr>\n      <th>thurs</th>\n      <td>0.122546</td>\n      <td>0.064364</td>\n      <td>10.386667</td>\n      <td>0.060149</td>\n    </tr>\n    <tr>\n      <th>t</th>\n      <td>-0.001157</td>\n      <td>0.001919</td>\n      <td>10.386667</td>\n      <td>0.548031</td>\n    </tr>\n    <tr>\n      <th>wave2</th>\n      <td>0.090891</td>\n      <td>0.022388</td>\n      <td>10.386667</td>\n      <td>0.000105</td>\n    </tr>\n    <tr>\n      <th>wave3</th>\n      <td>0.047375</td>\n      <td>0.018676</td>\n      <td>10.386667</td>\n      <td>0.012933</td>\n    </tr>\n  </tbody>\n</table>\n</div>"
     },
     "execution_count": 9,
     "metadata": {},
     "output_type": "execute_result"
    }
   ],
   "source": [
    "# Obtain Newey-West standard errors with four lags\n",
    "newey_west_results = model_with_wave.get_robustcov_results(cov_type='HAC', maxlags=4)\n",
    "\n",
    "results_data = pd.DataFrame(\n",
    "    {\n",
    "    'Coefficient': newey_west_results.params,\n",
    "    'Standard Error': newey_west_results.bse,\n",
    "    'F-Statistic': newey_west_results.fvalue,\n",
    "    'P-value': newey_west_results.pvalues\n",
    "}\n",
    ", index=X.columns)\n",
    "\n",
    "results_data"
   ],
   "metadata": {
    "collapsed": false,
    "ExecuteTime": {
     "end_time": "2023-11-21T18:53:00.301197Z",
     "start_time": "2023-11-21T18:53:00.289235Z"
    }
   }
  },
  {
   "cell_type": "markdown",
   "source": [
    "***Answer:*** Both variables `wave2` and `wave3` seem to have p-values equal or smaller than the ones at step $b)$. Then, we can be as much or even more confident in the fact that their impact are statistically significant on the `lavgprc` variable."
   ],
   "metadata": {
    "collapsed": false
   }
  },
  {
   "cell_type": "markdown",
   "source": [
    "### f)"
   ],
   "metadata": {
    "collapsed": false
   }
  },
  {
   "cell_type": "code",
   "execution_count": 10,
   "outputs": [],
   "source": [
    "# First let's compute rho\n",
    "residuals = model_with_wave.resid\n",
    "residuals_shifted = residuals.shift(periods=-1,\n",
    "                                    fill_value=residuals.iloc[-1])  #give the last value of residuals\n",
    "\n",
    "# Perform the regression\n",
    "residuals_model = sm.OLS(residuals, residuals_shifted).fit()\n",
    "\n",
    "# Retrieve rho\n",
    "rho = residuals_model.params\n",
    "\n",
    "#TODO: Ochrane and Prais computation"
   ],
   "metadata": {
    "collapsed": false,
    "ExecuteTime": {
     "end_time": "2023-11-21T18:53:00.354202Z",
     "start_time": "2023-11-21T18:53:00.304054Z"
    }
   }
  },
  {
   "cell_type": "markdown",
   "source": [],
   "metadata": {
    "collapsed": false
   }
  }
 ],
 "metadata": {
  "kernelspec": {
   "display_name": "Python 3",
   "language": "python",
   "name": "python3"
  },
  "language_info": {
   "codemirror_mode": {
    "name": "ipython",
    "version": 2
   },
   "file_extension": ".py",
   "mimetype": "text/x-python",
   "name": "python",
   "nbconvert_exporter": "python",
   "pygments_lexer": "ipython2",
   "version": "2.7.6"
  }
 },
 "nbformat": 4,
 "nbformat_minor": 0
}
